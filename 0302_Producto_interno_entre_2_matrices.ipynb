{
  "nbformat": 4,
  "nbformat_minor": 0,
  "metadata": {
    "kernelspec": {
      "display_name": "Python 3",
      "language": "python",
      "name": "python3"
    },
    "language_info": {
      "codemirror_mode": {
        "name": "ipython",
        "version": 3
      },
      "file_extension": ".py",
      "mimetype": "text/x-python",
      "name": "python",
      "nbconvert_exporter": "python",
      "pygments_lexer": "ipython3",
      "version": "3.7.4"
    },
    "colab": {
      "name": "0302 - Producto interno entre 2 matrices.ipynb",
      "provenance": [],
      "collapsed_sections": [],
      "include_colab_link": true
    }
  },
  "cells": [
    {
      "cell_type": "markdown",
      "metadata": {
        "id": "view-in-github",
        "colab_type": "text"
      },
      "source": [
        "<a href=\"https://colab.research.google.com/github/DavidSA06/Math-for-Data-Science/blob/main/0302_Producto_interno_entre_2_matrices.ipynb\" target=\"_parent\"><img src=\"https://colab.research.google.com/assets/colab-badge.svg\" alt=\"Open In Colab\"/></a>"
      ]
    },
    {
      "cell_type": "code",
      "metadata": {
        "id": "ar8ASPWUe2OG"
      },
      "source": [
        "import numpy as np"
      ],
      "execution_count": null,
      "outputs": []
    },
    {
      "cell_type": "code",
      "metadata": {
        "id": "9XeJLCO4e2OK"
      },
      "source": [
        "A = np.array([[1,2,3],[4,5,6],[7,8,9],[10,11,12]])\n",
        "B = np.array([[2,3],[5,7],[11,13]])"
      ],
      "execution_count": null,
      "outputs": []
    },
    {
      "cell_type": "code",
      "metadata": {
        "id": "UsMY0abwe2ON",
        "colab": {
          "base_uri": "https://localhost:8080/"
        },
        "outputId": "255c9914-0edd-47fc-f0a4-3ce1aa5cc8b6"
      },
      "source": [
        "print(A.shape)"
      ],
      "execution_count": null,
      "outputs": [
        {
          "output_type": "stream",
          "name": "stdout",
          "text": [
            "(4, 3)\n"
          ]
        }
      ]
    },
    {
      "cell_type": "code",
      "metadata": {
        "id": "nJPg_UbUe2OQ",
        "colab": {
          "base_uri": "https://localhost:8080/"
        },
        "outputId": "fbdb9927-7765-454c-b3f6-0730bf89f1ca"
      },
      "source": [
        "print(B.shape)"
      ],
      "execution_count": null,
      "outputs": [
        {
          "output_type": "stream",
          "name": "stdout",
          "text": [
            "(3, 2)\n"
          ]
        }
      ]
    },
    {
      "cell_type": "code",
      "metadata": {
        "id": "Y_8wL0nne2OU"
      },
      "source": [
        "C = A.dot(B)"
      ],
      "execution_count": null,
      "outputs": []
    },
    {
      "cell_type": "code",
      "metadata": {
        "id": "SYX1vt9Pe2OX"
      },
      "source": [
        "#D = B.dot(A)"
      ],
      "execution_count": null,
      "outputs": []
    },
    {
      "cell_type": "code",
      "metadata": {
        "id": "tUxPM0Dwe2OZ",
        "colab": {
          "base_uri": "https://localhost:8080/"
        },
        "outputId": "b2d043e6-efb9-430f-ab94-39d78bf369c7"
      },
      "source": [
        "#Tarea\n",
        "print(C)"
      ],
      "execution_count": null,
      "outputs": [
        {
          "output_type": "stream",
          "name": "stdout",
          "text": [
            "[[ 45  56]\n",
            " [ 99 125]\n",
            " [153 194]\n",
            " [207 263]]\n"
          ]
        }
      ]
    }
  ]
}