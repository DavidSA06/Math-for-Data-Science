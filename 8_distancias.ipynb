{
  "nbformat": 4,
  "nbformat_minor": 0,
  "metadata": {
    "kernelspec": {
      "display_name": "Python 3",
      "language": "python",
      "name": "python3"
    },
    "language_info": {
      "codemirror_mode": {
        "name": "ipython",
        "version": 3
      },
      "file_extension": ".py",
      "mimetype": "text/x-python",
      "name": "python",
      "nbconvert_exporter": "python",
      "pygments_lexer": "ipython3",
      "version": "3.7.3"
    },
    "colab": {
      "name": "8_distancias.ipynb",
      "provenance": [],
      "collapsed_sections": [],
      "include_colab_link": true
    }
  },
  "cells": [
    {
      "cell_type": "markdown",
      "metadata": {
        "id": "view-in-github",
        "colab_type": "text"
      },
      "source": [
        "<a href=\"https://colab.research.google.com/github/DavidSA06/Math-for-Data-Science/blob/main/8_distancias.ipynb\" target=\"_parent\"><img src=\"https://colab.research.google.com/assets/colab-badge.svg\" alt=\"Open In Colab\"/></a>"
      ]
    },
    {
      "cell_type": "markdown",
      "metadata": {
        "id": "vMLQpgM6D9Oq"
      },
      "source": [
        "# 8. Distancia y Norma"
      ]
    },
    {
      "cell_type": "markdown",
      "metadata": {
        "id": "EaM9nxA4D9Ou"
      },
      "source": [
        "En clases pasadas hablamos de la magnitud de un vector pero no dimos una forma de poder medirla, esa magnitud la podremos calcular a través de la *norma Euclidiana*:\n",
        "\n",
        "$$\n",
        "||x|| = \\displaystyle\\sqrt{x_{0}^2 + x_{1}^2 + \\cdots + x_{n-1}^{2}} = \\displaystyle\\sqrt(x^Tx)\n",
        "$$\n",
        "\n",
        "Hay que notar que $x$ en la expresión anterior es un $n$-vector. \n",
        "Pongamos un ejemplo con $x^T = [1,2,3]$\n",
        "\n",
        "$$\n",
        "||x|| = \\displaystyle\\sqrt{1^2 + 2^2 + 3^2} = \\sqrt{14} \\approx 3.74\n",
        "$$\n",
        "\n",
        "Realizaremos otro con $x^T = [2,-1,2]$\n",
        "\n",
        "$$\n",
        "||x|| = \\displaystyle\\sqrt{2^2 + (-1)^2 + 2^2} = \\sqrt{9} = 3\n",
        "$$"
      ]
    },
    {
      "cell_type": "markdown",
      "metadata": {
        "id": "ZrL8cAyhD9O1"
      },
      "source": [
        "## 8.1 Propieades de la norma"
      ]
    },
    {
      "cell_type": "markdown",
      "metadata": {
        "id": "WNCoN4AFD9O3"
      },
      "source": [
        "Como todas las operaciones con las que trabajamos hasta ahora la norma también cumple una serie de propiedades. Sean $x$, $y$ son $n$-vectores y $\\beta$ un escalar cualquiera, tenemos que la norma cumple:\n",
        "* Homogeneídad no negativa: $||\\beta x|| = |\\beta|\\cdot ||x||$\n",
        "\n",
        "* Desigualdad del triángulo: $||x+y|| \\le ||x|| + ||y||$ \n",
        "\n",
        "* No-negatividad: $||x||\\ge 0$ y además $||x|| = 0$ si y solamente si $x = \\mathbf{0}$"
      ]
    },
    {
      "cell_type": "markdown",
      "metadata": {
        "id": "X5OcrMvzD9O4"
      },
      "source": [
        "La norma es ampliamente usada, en particular podemos señalar los siguientes ejemplos:\n",
        "\n",
        "**Valor cuadrático medio.** Algunas veces también es llamado simplemente **RMS** y se define como sigue:\n",
        "\n",
        "$$\n",
        "rms(x) = \\displaystyle\\sqrt{\\frac{x_{0}^2 + x_{1}^2 + \\cdots + x_{n-1}^{2}}{n}} = \\frac{||x||}{\\sqrt{n}}\n",
        "$$"
      ]
    },
    {
      "cell_type": "markdown",
      "metadata": {
        "id": "c1kjBszpD9O6"
      },
      "source": [
        "**Norma de una suma.** Si tenemos dos vectores $x$ y $y$ entonces la norma de la suma es\n",
        "\n",
        "$$\n",
        "||x+y|| = \\displaystyle\\sqrt{||x||^{2} + 2x^{T}y + ||y||^{2}}\n",
        "$$"
      ]
    },
    {
      "cell_type": "markdown",
      "metadata": {
        "id": "0pg8qt8eD9O8"
      },
      "source": [
        "**Norma de un bloque de vectores.** La norma de bloque de vectores será simplemente la raíz cuadrada de la suma de sus componentes. Si tenemos $d$ un $k$-vector con componentes $d_{i}$ que son $n$-vectores entonces tenemos que:\n",
        "\n",
        "$$\n",
        "||d|| = \\displaystyle\\sqrt{||d_{0}||^{2}+||d_{1}||^{2}+\\cdots + ||d_{n-1}||^{2}}\n",
        "$$"
      ]
    },
    {
      "cell_type": "code",
      "metadata": {
        "id": "aozEwewED9O-"
      },
      "source": [
        "import numpy as np"
      ],
      "execution_count": null,
      "outputs": []
    },
    {
      "cell_type": "code",
      "metadata": {
        "id": "JsrZQFfED9PD"
      },
      "source": [
        "u = np.array([1,1])"
      ],
      "execution_count": null,
      "outputs": []
    },
    {
      "cell_type": "code",
      "metadata": {
        "id": "9BpQ7UXyD9PG"
      },
      "source": [
        "def norma(x):\n",
        "    return np.sqrt(x@x)"
      ],
      "execution_count": null,
      "outputs": []
    },
    {
      "cell_type": "code",
      "metadata": {
        "id": "wBCfX7FpD9PH",
        "outputId": "5934c2c2-133a-4947-b9ae-12d1cf3a1032"
      },
      "source": [
        "norma(u)"
      ],
      "execution_count": null,
      "outputs": [
        {
          "data": {
            "text/plain": [
              "1.4142135623730951"
            ]
          },
          "execution_count": 4,
          "metadata": {},
          "output_type": "execute_result"
        }
      ]
    },
    {
      "cell_type": "markdown",
      "metadata": {
        "id": "6Z4xPSmZD9PL"
      },
      "source": [
        "$2*u^T = [2,2]$ entonces la norma será $||2u|| = \\displaystyle\\sqrt{2^2 + 2^2} = \\displaystyle\\sqrt{8}$"
      ]
    },
    {
      "cell_type": "code",
      "metadata": {
        "id": "FSHnmzPiD9PN",
        "outputId": "194d02bd-f1e4-4cce-906d-6fd58d5bd3bb"
      },
      "source": [
        "norma(2*u)"
      ],
      "execution_count": null,
      "outputs": [
        {
          "data": {
            "text/plain": [
              "2.8284271247461903"
            ]
          },
          "execution_count": 5,
          "metadata": {},
          "output_type": "execute_result"
        }
      ]
    },
    {
      "cell_type": "code",
      "metadata": {
        "id": "RJlqSrRtD9PP",
        "outputId": "e0126c1c-2323-4fdd-b1b7-9aa8e0b13ccb"
      },
      "source": [
        "2*norma(u)"
      ],
      "execution_count": null,
      "outputs": [
        {
          "data": {
            "text/plain": [
              "2.8284271247461903"
            ]
          },
          "execution_count": 6,
          "metadata": {},
          "output_type": "execute_result"
        }
      ]
    },
    {
      "cell_type": "code",
      "metadata": {
        "id": "YyT4mCGBD9PS"
      },
      "source": [
        "v = np.array([-1,1])"
      ],
      "execution_count": null,
      "outputs": []
    },
    {
      "cell_type": "code",
      "metadata": {
        "id": "yEXUW749D9PT",
        "outputId": "027612c5-e4af-4a3a-bb56-37d9df339065"
      },
      "source": [
        "print('||u+v|| = ',norma(u+v))"
      ],
      "execution_count": null,
      "outputs": [
        {
          "name": "stdout",
          "output_type": "stream",
          "text": [
            "||u+v|| =  2.0\n"
          ]
        }
      ]
    },
    {
      "cell_type": "code",
      "metadata": {
        "id": "dsNIJebAD9PW",
        "outputId": "fa66fa4d-f4d3-4c10-ac60-a91eac4be172"
      },
      "source": [
        "print('||v|| = ',norma(v))"
      ],
      "execution_count": null,
      "outputs": [
        {
          "name": "stdout",
          "output_type": "stream",
          "text": [
            "||v|| =  1.4142135623730951\n"
          ]
        }
      ]
    },
    {
      "cell_type": "code",
      "metadata": {
        "id": "4CnbSeryD9Pd",
        "outputId": "2577d136-2dee-4b5b-9a9e-085b7da460dd"
      },
      "source": [
        "print('¿Es verdad que ||u+v|| menor o igual que ||u||+||v||?', norma(u+v) <= norma(v)+norma(u))"
      ],
      "execution_count": null,
      "outputs": [
        {
          "name": "stdout",
          "output_type": "stream",
          "text": [
            "¿Es verdad que ||u+v|| menor o igual que ||u||+||v|| True\n"
          ]
        }
      ]
    },
    {
      "cell_type": "markdown",
      "metadata": {
        "id": "XdSVyEfjD9Pf"
      },
      "source": [
        "  "
      ]
    },
    {
      "cell_type": "markdown",
      "metadata": {
        "id": "mLc1zJMkD9Pj"
      },
      "source": [
        "## 8.1 Distancia entre vectores"
      ]
    },
    {
      "cell_type": "markdown",
      "metadata": {
        "id": "roRKyJpCD9Pk"
      },
      "source": [
        "Podemos usar la norma pora definir la distancia entre dos vectores $\\mathbf{a}$ y $\\mathbf{b}$ como la norma de la diferencia de los vectores\n",
        "\n",
        "$$\n",
        "dist(\\mathbf{a},\\mathbf{b}) = ||\\mathbf{a} - \\mathbf{b}|| = \\displaystyle\\sqrt{(a_{0}-b_{0})^2 + (a_{1}-b_{1})^2 + \\cdots + (a_{n-1}-b_{n-1})^2}\n",
        "$$"
      ]
    },
    {
      "cell_type": "code",
      "metadata": {
        "id": "PdQPqYYiD9Pm"
      },
      "source": [
        "a = np.array([1,1])\n",
        "b = np.array([-2,3])"
      ],
      "execution_count": null,
      "outputs": []
    },
    {
      "cell_type": "code",
      "metadata": {
        "id": "GswAZHWVD9Pn"
      },
      "source": [
        "c = a - b"
      ],
      "execution_count": null,
      "outputs": []
    },
    {
      "cell_type": "code",
      "metadata": {
        "id": "lx-O176kD9Po",
        "outputId": "6bef8ef2-e1f6-4d6f-f24d-f2b97fe0866e"
      },
      "source": [
        "norma(a-b)"
      ],
      "execution_count": null,
      "outputs": [
        {
          "data": {
            "text/plain": [
              "3.605551275463989"
            ]
          },
          "execution_count": 15,
          "metadata": {},
          "output_type": "execute_result"
        }
      ]
    },
    {
      "cell_type": "code",
      "metadata": {
        "id": "6HOWOxpgD9Po",
        "outputId": "40585657-ddcf-46d6-f2ca-30d863077100"
      },
      "source": [
        "np.linalg.norm(a-b)"
      ],
      "execution_count": null,
      "outputs": [
        {
          "data": {
            "text/plain": [
              "3.605551275463989"
            ]
          },
          "execution_count": 16,
          "metadata": {},
          "output_type": "execute_result"
        }
      ]
    },
    {
      "cell_type": "markdown",
      "metadata": {
        "id": "cxM-YQaPD9Pq"
      },
      "source": [
        "A esto se el llama _norma Euclidiana_ o *distancia Euclidiana* y tiene ese nombre porque es como se infiere la forma de medir distancias de los [postulados de Euclides](https://es.wikipedia.org/wiki/Postulados_de_Euclides). Ahora, la realidad es que siempre que nuestro espacio admita una $\\mathbf{L^p}$-norma entonces podremos generalizar la norma anterior como\n",
        "\n",
        "$$\n",
        "||x||_{p} = \\left(|x_{0}|^p + |x_{1}|^p + \\cdots + |x_{n-1}|^p\\right)^{1/p} \\qquad con \\;\\; 1\\le p\n",
        "$$"
      ]
    },
    {
      "cell_type": "markdown",
      "metadata": {
        "id": "Gt2ACV9rD9Ps"
      },
      "source": [
        "Por eso es que la norma Euclidiana también es conocida como la *norma $L_{2}$*. Hay otras normas que recibe nombres. Por ejemplo, si $p=1$ tenemos la norma $L_{1}$ y esta es llamada _la métrica del taxista_ o _la métrica de Manhattan_. Si tomamos $p \\to \\infty$ entonces tenemos $L_{\\infty}$ y esta es llamada _la métrica del máximo_. Es muy importante saber qué métrica estamos usando para medir distancias ya que la forma en la que medimos distancias está en total correspondencia en con configuración y la percepción el espacio. Por ejemplo, mientras que en la métrica Euclidiana la distancia corresponde a la más corta entre los dos vectores en el espacio planeo en el caso de la métrica del taxista es la más corta pero no será es segmento más directo sino por _bloques_."
      ]
    },
    {
      "cell_type": "markdown",
      "metadata": {
        "id": "tcPVeP7RD9Pt"
      },
      "source": [
        "Para poder simplificar las cosas tomemos dos vectores $\\mathbf{x}$ y $\\mathbf{y}$ en $\\mathbb{R}^2$\n",
        "\n",
        "$$\n",
        "\\mathbf{x} = \\begin{bmatrix} 2\\\\1 \\end{bmatrix},\\; \\qquad \\mathbf{y} = \\begin{bmatrix} 1\\\\2 \\end{bmatrix}\n",
        "$$\n",
        "\n",
        "La distancia en el caso de norma $L_{2}$ tenemos que la distancia entre los vectores es $||\\mathbf{x}-\\mathbf{y}||_{2} = \\displaystyle\\sqrt{(2-1)^{2} + (1-2)^{2}} = \\displaystyle\\sqrt{2}$ mientras que bajo la norma $L_{1}$ obtenemos que $||\\mathbf{x}-\\mathbf{y}||_{1} = |2-1|+|1-2| = 2$. "
      ]
    },
    {
      "cell_type": "markdown",
      "metadata": {
        "id": "bKMWToDsD9Pu"
      },
      "source": [
        "Ahora, si $\\mathbf{x}$ y $\\mathbf{y}$ son $n$-vectores hay una medida quer después cobrará importancia, *la desviación cuadrática media*\n",
        "\n",
        "$$\n",
        "rms_{dev}(\\mathbf{x},\\mathbf{y}) = \\displaystyle\\frac{||\\mathbf{x}-\\mathbf{y}||}{\\sqrt{n}}\n",
        "$$"
      ]
    },
    {
      "cell_type": "markdown",
      "metadata": {
        "id": "_zEnWil1D9Pu"
      },
      "source": [
        "  "
      ]
    },
    {
      "cell_type": "markdown",
      "metadata": {
        "id": "ck-uPOcuD9Pv"
      },
      "source": [
        "Algo muy imporante es que a pesar de que medimos distancias no existen propiamente nociones de *cerca* y *lejos*. Si tomamos los siguientes $4$-vectores\n",
        "\n",
        "$$\n",
        "\\mathbf{u} = \\begin{bmatrix}1.8 \\\\ 2.8 \\\\ -3.7 \\\\ 4.7 \\end{bmatrix}, \\qquad  \\mathbf{v} = \\begin{bmatrix}0.6 \\\\ 2.1 \\\\ 1.9 \\\\ -1.4 \\end{bmatrix}, \\qquad \\mathbf{w} = \\begin{bmatrix}2.0 \\\\ 1.9 \\\\ -4.0 \\\\ 4.6 \\end{bmatrix}\n",
        "$$\n",
        "\n",
        "Tenemos que las distancia entre los vectores es:\n",
        "\n",
        "$$\n",
        "||\\mathbf{u}-\\mathbf{v}|| = 8.36, \\qquad ||\\mathbf{u}-\\mathbf{w}|| = 0.38, \\qquad ||\\mathbf{v}-\\mathbf{w}|| = 8.63\n",
        "$$\n",
        "\n",
        "Entonces así ya tenemos noción de cercanía o lontanaza, de no ser porque comparamos no tendríamos estas nociones. "
      ]
    },
    {
      "cell_type": "markdown",
      "metadata": {
        "id": "HZruevFnD9Py"
      },
      "source": [
        "  "
      ]
    },
    {
      "cell_type": "markdown",
      "metadata": {
        "id": "H0ySugQUD9Pz"
      },
      "source": [
        "**Desigualdad del triángulo.** Debido a que la distancia la definimos a partir de la norma entonces la distancia también está sujeta a cumplir la desigualdad del triángulo. Considemos entonces tres $n$-vectores $\\mathbf{a}$,$\\mathbf{b}$ y $\\mathbf{c}$ entonces tenemos\n",
        "\n",
        "$$\n",
        "||\\mathbf{a}-\\mathbf{c}|| = ||\\mathbf{a}-\\mathbf{b}+\\mathbf{b}-\\mathbf{c}|| \\le ||\\mathbf{a}-\\mathbf{b}|| + ||\\mathbf{b}-\\mathbf{c}||\n",
        "$$"
      ]
    },
    {
      "cell_type": "markdown",
      "metadata": {
        "id": "fvkb78AHD9Pz"
      },
      "source": [
        "Vamos a partir de los siguientes $2$-vectores:\n",
        "$$\n",
        "\\mathbf{a} = \\begin{bmatrix} 1\\\\ 1 \\end{bmatrix}, \\qquad \\mathbf{b} = \\begin{bmatrix} 2\\\\ 3 \\end{bmatrix}, \\qquad \\mathbf{c} = \\begin{bmatrix} 4\\\\ 2 \\end{bmatrix}\n",
        "$$"
      ]
    },
    {
      "cell_type": "markdown",
      "metadata": {
        "id": "aJv878iXD9P0"
      },
      "source": [
        "  "
      ]
    },
    {
      "cell_type": "markdown",
      "metadata": {
        "id": "y2hE0yYID9P1"
      },
      "source": [
        "## 8.3 Una aplicación"
      ]
    },
    {
      "cell_type": "markdown",
      "metadata": {
        "id": "iN_iOq-SD9P2"
      },
      "source": [
        "**Visita óptima de apartamentos para arrendar.** Supongamos que estamos en búsqueda de alquilar un apartamento. Comenzamos buscando caracacterísticas como cantidad de recámaras, cantidad de baños, estacionamientos, zona y tamaño. Un problema es que algunas veces llegamos a colectar una gran cantidad de anuncios y contactos y organizarnos para ir a las visitas puede parecer prácticamte imposible y puede que dejemos escapar una gran oportunidad. Afortunadamente en este curso vamos a proponer una solución: vamos a partir de nuestro departamento ideal y vamos a representarlo como un vector de caracteristicas, construimos el mismo vector para los apartamentos que ya tengamos localizados y calculamos la distancia entre estos vectores y el vector que representa al departamento ideal. Los ordenamos por de manera ascendente y ya tendríamos una lista ordenada en prioridad de contacto y visita de apartamentos según nuestro apartamento ideal. \n",
        "\n",
        "Para esto, supongamos que las características que queremos tomar en cuenta son tamaño del apartamento, número de recámaras, número de baños y número de estacionamientos. Notemos que en el caso de tamaño del apartamento regularmente se nos da en metros cuadrados (área) pero el gran problema es que puede variar mucho y usar estos números *tan grandes* puede introducir una gran cantidad de ruido. Para resolver el problema anterior vamos a catalogar los tamaños de apartametos en categorias:\n",
        "1. Si el área es menor que 60 metros cuadrados\n",
        "2. Si el área es mayor o igual que 60 metros cuadrados pero menor que 80 metros cuadrados\n",
        "3. Si el área es mayor o igual que 80 metros cuadrados pero menor que 110 metros cuadrados\n",
        "4. Si el área es mayor o igual que 110 metros cuadrados pero menor que 130 metros cuadrados\n",
        "5. Si el área es mayor o igual que 130 metros cuadrados. "
      ]
    },
    {
      "cell_type": "markdown",
      "metadata": {
        "id": "gFVXuhF_D9P2"
      },
      "source": [
        "Supongamos también que el orden de las características en el vector es categoria de tamaño, número de recámaras, número de baños y número estacionamientos. Nuestro apartamento ideal viene dado por el siguiente vector:\n",
        "\n",
        "$$\n",
        "\\mathbf{I} = \\begin{bmatrix} 3\\\\ 2\\\\ 2\\\\1 \\end{bmatrix}\n",
        "$$\n",
        "\n",
        "Y nostros encontramos los siguientes apartamentos:\n",
        "\n",
        "$$\n",
        "\\mathbf{A_{1}} = \\begin{bmatrix}4 \\\\3 \\\\ 3\\\\3 \\end{bmatrix}, \\qquad \\mathbf{A_{2}} = \\begin{bmatrix}3 \\\\3 \\\\ 1\\\\0 \\end{bmatrix}, \\qquad \\mathbf{A_{3}} = \\begin{bmatrix}5 \\\\4 \\\\ 3\\\\0 \\end{bmatrix}\n",
        "$$"
      ]
    },
    {
      "cell_type": "code",
      "metadata": {
        "id": "aw7aNi6pD9P3"
      },
      "source": [
        "I = np.array([3,2,2,1])\n",
        "A_1 = np.array([4,3,3,3])\n",
        "A_2 = np.array([3,3,2,1])\n",
        "A_3 = np.array([5,4,3,0])"
      ],
      "execution_count": null,
      "outputs": []
    },
    {
      "cell_type": "code",
      "metadata": {
        "id": "6DNGXwPFD9P4",
        "outputId": "079e50ee-82cf-424b-88a0-8d33fcd8057d"
      },
      "source": [
        "print('||I-A_1|| =',np.linalg.norm(I-A_1))\n",
        "print('||I-A_2|| =',np.linalg.norm(I-A_2))\n",
        "print('||I-A_3|| =',np.linalg.norm(I-A_3))"
      ],
      "execution_count": null,
      "outputs": [
        {
          "name": "stdout",
          "output_type": "stream",
          "text": [
            "||I-A_1|| = 2.6457513110645907\n",
            "||I-A_2|| = 1.0\n",
            "||I-A_3|| = 3.1622776601683795\n"
          ]
        }
      ]
    },
    {
      "cell_type": "markdown",
      "metadata": {
        "id": "TPuMAnZTD9P5"
      },
      "source": [
        "Este problema es el problema de encontrar el vector más cercano. Básicamte si tenemos una colección de N $n$-vectores $z_{0},z_{1},\\dots,z_{N-1}$ vamos a decir que $z_{i}$ es el vecino más cercano del vector $x$ si \n",
        "\n",
        "$$\n",
        "||x-z_{i}|| \\le ||x - z_{j}|| \\quad con \\; \\; j = 0,\\dots, N-1\n",
        "$$"
      ]
    }
  ]
}