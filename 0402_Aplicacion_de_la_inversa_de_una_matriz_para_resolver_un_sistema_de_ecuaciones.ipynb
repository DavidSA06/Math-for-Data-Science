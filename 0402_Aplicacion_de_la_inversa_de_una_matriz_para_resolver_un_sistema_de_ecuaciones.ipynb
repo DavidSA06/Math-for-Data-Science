{
  "nbformat": 4,
  "nbformat_minor": 0,
  "metadata": {
    "kernelspec": {
      "display_name": "Python 3",
      "language": "python",
      "name": "python3"
    },
    "language_info": {
      "codemirror_mode": {
        "name": "ipython",
        "version": 3
      },
      "file_extension": ".py",
      "mimetype": "text/x-python",
      "name": "python",
      "nbconvert_exporter": "python",
      "pygments_lexer": "ipython3",
      "version": "3.7.4"
    },
    "colab": {
      "name": "0402 - Aplicacion de la inversa de una matriz para resolver un sistema de ecuaciones.ipynb",
      "provenance": [],
      "collapsed_sections": [],
      "include_colab_link": true
    }
  },
  "cells": [
    {
      "cell_type": "markdown",
      "metadata": {
        "id": "view-in-github",
        "colab_type": "text"
      },
      "source": [
        "<a href=\"https://colab.research.google.com/github/DavidSA06/Math-for-Data-Science/blob/main/0402_Aplicacion_de_la_inversa_de_una_matriz_para_resolver_un_sistema_de_ecuaciones.ipynb\" target=\"_parent\"><img src=\"https://colab.research.google.com/assets/colab-badge.svg\" alt=\"Open In Colab\"/></a>"
      ]
    },
    {
      "cell_type": "code",
      "metadata": {
        "id": "-VUS0xeIq6-1"
      },
      "source": [
        "import numpy as np"
      ],
      "execution_count": null,
      "outputs": []
    },
    {
      "cell_type": "code",
      "metadata": {
        "id": "V5FjpEFoq6-6"
      },
      "source": [
        "np.set_printoptions(suppress=True)"
      ],
      "execution_count": null,
      "outputs": []
    },
    {
      "cell_type": "code",
      "metadata": {
        "id": "_mqdGJuhq6-9",
        "outputId": "b45af863-500a-430e-96cb-9aee81f17df9"
      },
      "source": [
        "A = np.array([[3,1],[2,1]])\n",
        "print(A)"
      ],
      "execution_count": null,
      "outputs": [
        {
          "name": "stdout",
          "output_type": "stream",
          "text": [
            "[[3 1]\n",
            " [2 1]]\n"
          ]
        }
      ]
    },
    {
      "cell_type": "code",
      "metadata": {
        "id": "tKO4jMa6q6_D"
      },
      "source": [
        "b = np.array([[1],[1]])"
      ],
      "execution_count": null,
      "outputs": []
    },
    {
      "cell_type": "code",
      "metadata": {
        "id": "m-pF3eMwq6_F",
        "outputId": "43071cff-e16b-407b-86ab-7815f9b63a81"
      },
      "source": [
        "inversa_A = np.linalg.inv(A)\n",
        "print(inversa_A)"
      ],
      "execution_count": null,
      "outputs": [
        {
          "name": "stdout",
          "output_type": "stream",
          "text": [
            "[[ 1. -1.]\n",
            " [-2.  3.]]\n"
          ]
        }
      ]
    },
    {
      "cell_type": "code",
      "metadata": {
        "id": "RBRd6IDJq6_J",
        "outputId": "ceff7995-3ffe-4520-d552-09ac2747b51e"
      },
      "source": [
        "x = inversa_A.dot(b)\n",
        "print(x)"
      ],
      "execution_count": null,
      "outputs": [
        {
          "name": "stdout",
          "output_type": "stream",
          "text": [
            "[[0.]\n",
            " [1.]]\n"
          ]
        }
      ]
    },
    {
      "cell_type": "code",
      "metadata": {
        "id": "OLvgseySq6_N",
        "outputId": "4445152d-eab7-4bcc-b5f3-96c4e3bf40a0"
      },
      "source": [
        "print(A.dot(x))"
      ],
      "execution_count": null,
      "outputs": [
        {
          "name": "stdout",
          "output_type": "stream",
          "text": [
            "[[1.]\n",
            " [1.]]\n"
          ]
        }
      ]
    },
    {
      "cell_type": "code",
      "metadata": {
        "id": "41mhNtTQq6_P",
        "outputId": "6e256842-d036-491d-c75b-5a5a83806ab7"
      },
      "source": [
        "sol_2 = inversa_A.dot(np.array([[3],[7]]))\n",
        "print(sol_2)"
      ],
      "execution_count": null,
      "outputs": [
        {
          "name": "stdout",
          "output_type": "stream",
          "text": [
            "[[-4.]\n",
            " [15.]]\n"
          ]
        }
      ]
    },
    {
      "cell_type": "code",
      "metadata": {
        "id": "jNoxtAcbq6_S",
        "outputId": "d19fb860-4eef-48b2-98a8-a902715d649b"
      },
      "source": [
        "print(A.dot(sol_2))"
      ],
      "execution_count": null,
      "outputs": [
        {
          "name": "stdout",
          "output_type": "stream",
          "text": [
            "[[3.]\n",
            " [7.]]\n"
          ]
        }
      ]
    },
    {
      "cell_type": "code",
      "metadata": {
        "id": "_Q6KDGvkq6_e"
      },
      "source": [
        ""
      ],
      "execution_count": null,
      "outputs": []
    }
  ]
}