{
  "nbformat": 4,
  "nbformat_minor": 0,
  "metadata": {
    "kernelspec": {
      "display_name": "Python 3",
      "language": "python",
      "name": "python3"
    },
    "language_info": {
      "codemirror_mode": {
        "name": "ipython",
        "version": 3
      },
      "file_extension": ".py",
      "mimetype": "text/x-python",
      "name": "python",
      "nbconvert_exporter": "python",
      "pygments_lexer": "ipython3",
      "version": "3.7.3"
    },
    "colab": {
      "name": "4_producto_interno.ipynb",
      "provenance": [],
      "collapsed_sections": [],
      "include_colab_link": true
    }
  },
  "cells": [
    {
      "cell_type": "markdown",
      "metadata": {
        "id": "view-in-github",
        "colab_type": "text"
      },
      "source": [
        "<a href=\"https://colab.research.google.com/github/DavidSA06/Math-for-Data-Science/blob/main/4_producto_interno.ipynb\" target=\"_parent\"><img src=\"https://colab.research.google.com/assets/colab-badge.svg\" alt=\"Open In Colab\"/></a>"
      ]
    },
    {
      "cell_type": "markdown",
      "metadata": {
        "id": "DGkdGA9g3V80"
      },
      "source": [
        "# 4. Producto Interno"
      ]
    },
    {
      "cell_type": "markdown",
      "metadata": {
        "id": "4TxlIZbJ3V9N"
      },
      "source": [
        "El *producto interno* (estándar) o simplemente *producto punto* de dos $n$-vectores $\\vec{a},\\vec{b}$ se define como el escalar:\n",
        "\n",
        "$$\n",
        "<\\vec{a},\\vec{b}> = \\vec{a} \\cdot \\vec{b} = a_{0}b_{0}+a_{1}b_{1}+\\cdots+a_{n-1}b_{n-1} = \\displaystyle\\sum_{i=0}^{n-1} a_{i}b_{i}\n",
        "$$\n",
        "\n",
        "Que es simplemente la suma del producto de sus entradas."
      ]
    },
    {
      "cell_type": "markdown",
      "metadata": {
        "id": "lS_tjutE3V9S"
      },
      "source": [
        "Por ejemplo, si $\\vec{a}=(1,2,3)$ y $\\vec{b}=(4,5,6)$ entonces el producto punto será:\n",
        "\n",
        "$$\n",
        "\\vec{a}\\cdot\\vec{b} = (1,2,3)\\cdot (4,5,6) = 1\\cdot 4+2\\cdot 5 + 3\\cdot 6 = 4+10+18=32\n",
        "$$"
      ]
    },
    {
      "cell_type": "markdown",
      "metadata": {
        "id": "6GDiVDK33V9W"
      },
      "source": [
        "Hasta ahora trabajamos de forma indiferente con *vectores columna* y *vectores renglón*, a partir de este momento **el estándar serán los vectores columna** entonces simpre que hablemos de un vector, dígamos $\\vec{a}$ entonces estaremos hablando del vector columna:\n",
        "\n",
        "$$\n",
        "\\vec{a} = \\begin{bmatrix}a_{0}\\\\ a_{1}\\\\ \\vdots \\\\ a_{n-1}\\end{bmatrix}\n",
        "$$\n",
        "\n",
        "Esto también nos permite introducir una nueva operación: **la transposición**. Retomemos el vector $\\vec{a}$, denotaremos como $\\vec{a}^{T}$ al vector transpuesto de $\\vec{a}$:\n",
        "\n",
        "$$\n",
        "\\vec{a}^{T} = \\begin{bmatrix}a_{0}\\\\ a_{1}\\\\ \\vdots \\\\ a_{n-1}\\end{bmatrix}^{T} = [a_{0}\\; a_{1}\\; \\cdots \\; a_{n-1}]\n",
        "$$\n",
        "\n",
        "La operación de transposición nos permite cambiar de vectores columna a vectores renglón sin modificar al vector que se transponga. Notemos que es posible poder transponer un vector transpuesto_\n",
        "\n",
        "$$\n",
        "\\left(\\vec{a}^{T}\\right)^{T} = \\left(\\begin{bmatrix}a_{0}\\\\ a_{1}\\\\ \\vdots \\\\ a_{n-1}\\end{bmatrix}^{T}\\right)^{T} = [a_{0}\\; a_{1}\\; \\cdots \\; a_{n-1}]^{T} = \\begin{bmatrix}a_{0}\\\\ a_{1}\\\\ \\vdots \\\\ a_{n-1}\\end{bmatrix} = \\vec{a}\n",
        "$$"
      ]
    },
    {
      "cell_type": "markdown",
      "metadata": {
        "id": "xeUDzrbZ3V9f"
      },
      "source": [
        "Así pues, consideremos el ejemplo anterior de los vectores $\\vec{a}$ y $\\vec{b}$. Definimos la operación $\\vec{a}^{T}\\vec{b}$ como:\n",
        "\n",
        "$$\n",
        "\\vec{a}^{T}\\; \\vec{b} = [a_{0}\\; a_{1}\\; \\cdots \\; a_{n-1}]  \\begin{bmatrix}b_{0}\\\\ b_{1}\\\\ \\vdots \\\\ b_{n-1}\\end{bmatrix} = a_{0}b_{0} + a_{1}b_{1} + \\cdots + a_{n-1}b_{n-1} = \\displaystyle\\sum_{i=0}^{n-1} a_{i}b_{i}\n",
        "$$\n",
        "\n",
        "Lo cual coincide con la definición del producto interno. Así pues $<\\vec{a},\\vec{b}> = \\vec{a}\\cdot \\vec{b} = \\vec{a}^{T} \\;\\vec{b} = \\displaystyle\\sum_{i=0}^{n-1} a_{i}b_{i}$"
      ]
    },
    {
      "cell_type": "markdown",
      "metadata": {
        "id": "bs6zYNLX3V9i"
      },
      "source": [
        "## 4.1 Propiedades del producto interno"
      ]
    },
    {
      "cell_type": "markdown",
      "metadata": {
        "id": "qjlJEezQ3V9n"
      },
      "source": [
        "Sean $\\vec{a},\\vec{b}$ dos $n$-vectores y $\\alpha$ un escalar. El producto interno entre $\\vec{a}$ y $\\vec{b}$ cumple las siguientes propiedades:\n",
        "\n",
        "* Conmutatividad: $\\vec{a}^{T}\\vec{b} = \\displaystyle\\sum_{i=0}^{n-1} a_{i}b_{i} = \\displaystyle\\sum_{i=0}^{n-1} b_{i}a_{i} = \\vec{b}^{T}\\vec{a}$\n",
        "\n",
        "* Asociatividad con multiplicación escalar: $\\left(\\alpha \\vec{a}\\right)^{T}\\vec{b} = \\alpha\\left(\\vec{a}^{T}\\vec{b}\\right)$\n",
        "\n",
        "* Distribución en la adición de vectores: $\\left(\\vec{a} + \\vec{b}\\right)^{T}\\vec{c} = \\vec{a}^{T}\\vec{c} + \\vec{b}^{T}\\vec{c}$"
      ]
    },
    {
      "cell_type": "markdown",
      "metadata": {
        "id": "1KpSL6pL3V9q"
      },
      "source": [
        "## 4.2 Consideraciones adicionales"
      ]
    },
    {
      "cell_type": "markdown",
      "metadata": {
        "id": "QbC_uL323V9t"
      },
      "source": [
        "**Proyección**. Si $\\vec{a}$ es un $n$-vector entonces $\\hat{e}_{i}^{T}\\vec{a} = a_{i}$"
      ]
    },
    {
      "cell_type": "markdown",
      "metadata": {
        "id": "mUMzvUcQ3V9y"
      },
      "source": [
        "**Suma de elementos de un vector.** $\\mathbf{1}^{T}a = a_{0}+a_{1}+\\cdots+a_{n-1}$ "
      ]
    },
    {
      "cell_type": "markdown",
      "metadata": {
        "id": "cXywUkGH3V90"
      },
      "source": [
        "**Promedio de entradas de un vector.** $(\\mathbf{1}/n)^{T}\\vec{a} = (a_{0}+a_{1}+\\cdots+a_{n-1})/n$"
      ]
    },
    {
      "cell_type": "markdown",
      "metadata": {
        "id": "ZKf2DXVL3V9_"
      },
      "source": [
        "**Suma de cuadrados de un vector.** $\\vec{a}^{T} \\;\\vec{a} = a_{0}^{2}+a_{1}^{2}+\\cdots+a_{n-1}^{2}$"
      ]
    },
    {
      "cell_type": "markdown",
      "metadata": {
        "id": "dXiYcVvL3V-A"
      },
      "source": [
        "**Producto interno de bloques de vectores**. Sean $\\vec{a},\\vec{b}$ $k$-vectores formados por concatenar los $n$-vectores $a_{i},b_{i}$:\n",
        "\n",
        "$$\n",
        "\\vec{a}=\\begin{bmatrix}a_{0}\\\\ a_{1}\\\\ \\vdots \\\\ a_{k-1}\\end{bmatrix},\\qquad \\vec{b}=\\begin{bmatrix}b_{0}\\\\ b_{1}\\\\ \\vdots \\\\ b_{k-1}\\end{bmatrix}\n",
        "$$\n",
        "\n",
        "Entonces el producto punto entre estos vectores va como:\n",
        "\n",
        "$$\n",
        "\\vec{a}^{T} \\vec{b} = [a_{0}\\; a_{1}\\; \\cdots \\; a_{k-1}]\\begin{bmatrix}b_{0}\\\\ b_{1}\\\\ \\vdots \\\\ b_{k-1}\\end{bmatrix} = a_{0}^{T}b_{0}+a_{1}^{T}b_{1} + \\cdots + a_{k-1}^{T}b_{k-1}\n",
        "$$"
      ]
    },
    {
      "cell_type": "markdown",
      "metadata": {
        "id": "fpLQULuG3V-B"
      },
      "source": [
        "## 4.3 Producto interno en Python. "
      ]
    },
    {
      "cell_type": "code",
      "metadata": {
        "id": "mGL6RO9o3V-F"
      },
      "source": [
        "import numpy as np"
      ],
      "execution_count": null,
      "outputs": []
    },
    {
      "cell_type": "markdown",
      "metadata": {
        "id": "Ksiav4pg3V-K"
      },
      "source": [
        "Sean $\\vec{a},\\vec{b}$ vectores en $\\mathbb{R}^{4}$. Diremos que los vectores son **ortogonales** o **perpendiculares** si $\\vec{a}\\cdot \\vec{b}= 0$\n",
        "\n",
        "Consideremos entonces $\\vec{a}=\\hat{e}_{0}$ y $\\vec{b} = \\hat{e}_{2}$. Vamos a realizar el producto punto en Python"
      ]
    },
    {
      "cell_type": "code",
      "metadata": {
        "id": "AaSMwbY63V-M"
      },
      "source": [
        "a = np.array([1,0,0,0]) #declaramos el vector e_1\n",
        "\n",
        "b = np.array([0,1,0,0]) #declaramos el vector e_2"
      ],
      "execution_count": null,
      "outputs": []
    },
    {
      "cell_type": "markdown",
      "metadata": {
        "id": "NeC2dJRF3V-O"
      },
      "source": [
        "Para realizar el producto punto llamaremos a la función *numpy.dot*"
      ]
    },
    {
      "cell_type": "code",
      "metadata": {
        "id": "NGUDjsDz3V-P",
        "colab": {
          "base_uri": "https://localhost:8080/"
        },
        "outputId": "3901a240-7b21-4dab-a92d-e04d893c8069"
      },
      "source": [
        "print('<a,b> =',np.dot(a,b))"
      ],
      "execution_count": null,
      "outputs": [
        {
          "output_type": "stream",
          "name": "stdout",
          "text": [
            "<a,b> = 0\n"
          ]
        }
      ]
    },
    {
      "cell_type": "markdown",
      "metadata": {
        "id": "jJTSD05u3V-S"
      },
      "source": [
        "De igual manera también podemos usar el operador $@$"
      ]
    },
    {
      "cell_type": "code",
      "metadata": {
        "id": "SDvf7Lo53V-T",
        "colab": {
          "base_uri": "https://localhost:8080/"
        },
        "outputId": "ddfb7b4b-6802-4584-c2f3-339b081cf374"
      },
      "source": [
        "print('<a,b> =',a.T@b)"
      ],
      "execution_count": null,
      "outputs": [
        {
          "output_type": "stream",
          "name": "stdout",
          "text": [
            "<a,b> = 0\n"
          ]
        }
      ]
    },
    {
      "cell_type": "markdown",
      "metadata": {
        "id": "EO2831793V-V"
      },
      "source": [
        "  "
      ]
    },
    {
      "cell_type": "markdown",
      "metadata": {
        "id": "bqo4HIV83V-V"
      },
      "source": [
        "**Evaluación de polinomios**. Un polinomio de grado $n-1$ se puede expresar como $p(x) = c_{0} + c_{1}x + c_{2}x^{2} + \\cdots + c_{n-1}x^{n-1}$. Si consideramos los $n$-vectores $\\vec{c},\\vec{x}$ tales que:\n",
        "\n",
        "$$\n",
        "\\vec{c} = \\begin{bmatrix}c_{0}\\\\ c_{1}\\\\ \\vdots \\\\ c_{n-1}\\end{bmatrix},\\qquad \\vec{x}(x) = \\begin{bmatrix}x^{0}\\\\ x^{1}\\\\ \\vdots \\\\ x^{n-1}\\end{bmatrix}\n",
        "$$\n",
        "\n",
        "Así pues, usando estos vectores es posible expresar $p(x) = \\vec{c}^{T}\\vec{x}(x)$. Un ejemplo más concreto sería $p(x)=1+2x$, usando los vectores:\n",
        "\n",
        "$$\n",
        "\\vec{c} = \\begin{bmatrix}1\\\\ 2 \\end{bmatrix}, \\qquad \\vec{x}(x) = \\begin{bmatrix}1\\\\ x \\end{bmatrix}\n",
        "$$\n",
        "\n",
        "Entonces podemos escribir:\n",
        "$$\n",
        "p(x) = \\vec{c}^{T}\\vec{x}(x) = [1 \\; 2] \\begin{bmatrix}1\\\\ x \\end{bmatrix} = 1\\cdot 1 + 2\\cdot x = 1 + 2x\n",
        "$$"
      ]
    },
    {
      "cell_type": "markdown",
      "metadata": {
        "id": "s50aQNtq3V-X"
      },
      "source": [
        "Así pues en Python podemos escribir el polinomio como:"
      ]
    },
    {
      "cell_type": "code",
      "metadata": {
        "id": "Hi9mKpBh3V-Y"
      },
      "source": [
        "def p(x):\n",
        "    return np.array([1,2])@np.array([1,x])"
      ],
      "execution_count": null,
      "outputs": []
    },
    {
      "cell_type": "code",
      "metadata": {
        "id": "rYNkHe1R3V-Z",
        "colab": {
          "base_uri": "https://localhost:8080/"
        },
        "outputId": "e995c371-88d2-47c0-e636-41cec5cdda41"
      },
      "source": [
        "print('p(0) = ',p(0))\n",
        "print('p(1) = ',p(1))\n",
        "print('p(2) = ',p(2))"
      ],
      "execution_count": null,
      "outputs": [
        {
          "output_type": "stream",
          "name": "stdout",
          "text": [
            "p(0) =  1\n",
            "p(1) =  3\n",
            "p(2) =  5\n"
          ]
        }
      ]
    },
    {
      "cell_type": "markdown",
      "metadata": {
        "id": "Ak2u5OG63V-c"
      },
      "source": [
        "## 4.4 Ejercicios."
      ]
    },
    {
      "cell_type": "markdown",
      "metadata": {
        "id": "peULem5f3V-d"
      },
      "source": [
        "**Problema 1: Análisis de sentimientos de tweets.** Vamos a crear un máquina que pueda decirnos qué tan positivo, neutral o negativo son una serie de respuestas de twitter.  \n",
        "Las respuestas son:\n",
        "> Gran mexicano y excelente en su área, su muerte es una enorme perdida y debería ser luto nacional!!!\n",
        "\n",
        "> Vaya señora que bueno que se asesora por alguien inteligente no por el ignorante del Gatt.\n",
        "\n",
        "> Se me ocurre y sin ver todos los videos de Plazti que me informéis por dónde empiezo. Entiendo que os tendría que decir quién soy y que quiero, vamos conocerme para asesorarme bien.\n",
        "Un saludo\n",
        "\n",
        "> Soy docente universitario, estoy intentando preparar mis clases en modo platzi bien didáctico, (le llamo modo noticiero), descargue una plataforma gratuita de grabación y transmisión de vídeo, se llama Obs estudio!bueno la sigo remando con sus funciones pero sé que saldrá algo!"
      ]
    },
    {
      "cell_type": "code",
      "metadata": {
        "id": "Q5c-2nVA3V-f"
      },
      "source": [
        "a = \"Gran mexicano y excelente en su área, su muerte es una enorme perdida y debería ser luto nacional!!!\"\n",
        "a = a.replace(\"!\",\" \").replace(\",\",\" \").split(\" \")\n"
      ],
      "execution_count": null,
      "outputs": []
    },
    {
      "cell_type": "code",
      "metadata": {
        "id": "3Bx6IHHc3V-g",
        "colab": {
          "base_uri": "https://localhost:8080/"
        },
        "outputId": "b449c065-419c-43cc-ac4e-b0eec6e4464d"
      },
      "source": [
        "a"
      ],
      "execution_count": null,
      "outputs": [
        {
          "output_type": "execute_result",
          "data": {
            "text/plain": [
              "['gran',\n",
              " 'mexicano',\n",
              " 'y',\n",
              " 'excelente',\n",
              " 'en',\n",
              " 'su',\n",
              " 'área',\n",
              " 'su',\n",
              " 'muerte',\n",
              " 'es',\n",
              " 'una',\n",
              " 'enorme',\n",
              " 'perdida',\n",
              " 'y',\n",
              " 'debería',\n",
              " 'ser',\n",
              " 'luto',\n",
              " 'nacional']"
            ]
          },
          "metadata": {},
          "execution_count": 82
        }
      ]
    },
    {
      "cell_type": "code",
      "metadata": {
        "id": "byp65-8S3V-h",
        "colab": {
          "base_uri": "https://localhost:8080/"
        },
        "outputId": "e8276c6f-55f6-4bf6-ee5a-ef26d782c4b8"
      },
      "source": [
        "if 'muerte' in a:\n",
        "    print(\"Sí\")"
      ],
      "execution_count": null,
      "outputs": [
        {
          "output_type": "stream",
          "name": "stdout",
          "text": [
            "Sí\n"
          ]
        }
      ]
    },
    {
      "cell_type": "markdown",
      "metadata": {
        "id": "5RCC8Qx53V-l"
      },
      "source": [
        "Ahora bien, no podemos sacar toda la información de los textos sino vamos a buscar cadenas (strings) específicas. Así pues vamos a construir una función de Python que cuente la cantidad de veces que aparece cierta cadena. Como ejemplo, supongamos que las palabras que vamos a contar son *muerte*, *pérdida*, *luto*, *excelente*,*gran* y *positivo*, y además esto lo queremos expresar como vector en orden respectivo, así pues el primer comentario lo podemos expresar como el siguiente vector:\n",
        "$$\n",
        "\\vec{w} = \\begin{bmatrix}1\\\\ 1 \\\\ 1\\\\ 1\\\\ 1 \\\\0 \\end{bmatrix}\n",
        "$$\n",
        "Ahora, vamos a crear otra función en la que tendremos el vector con entradas de cantidad de palabras positivas, negativas y neutras. Siguiendo con el ejemplo vamos a sumar un uno a la primer entrada si aparece alguna de las siguientes palabras *excelente*,*gran* y *positivo*, un uno en la segunda por cada vez que aparezca la palabra *pérdida* y un uno a la última entrada si aparecen las palabras *muerte* y *luto*. Así pues, el primer twett lo podemos representar como:\n",
        "\n",
        "$$\n",
        "\\vec{s} = \\begin{bmatrix} 2 \\\\ 1 \\\\2 \\end{bmatrix}\n",
        "$$\n",
        "\n",
        "Ahora, para ver la *calidad* del resultado que tendremos para un twett conviene calcular el promedio de las entradas de un vector de palabras\n",
        "$$avg(\\vec{w}) = (\\mathbf{1}/n)^{T}\\vec{w}$$\n",
        "Y después calcularás el promedio del sentimiento de cada tweet $avg(\\vec{s})$ y de igual manera el *score sentimental* que se define como \n",
        "$$score(\\vec{s}) = [1\\; 0\\; -1] \\begin{bmatrix} s_{0} \\\\ s_{1} \\\\s_{2} \\end{bmatrix}$$"
      ]
    },
    {
      "cell_type": "markdown",
      "metadata": {
        "id": "4OmCv7px3V-m"
      },
      "source": [
        "Leyendo los tuits decide el conjunto mínimo de palabras que vas a contar en todos los tuits, solamente deberás hacer una función para contar palabras para todos los tuits, no hagas un función por enunciado. Según tu esquema reponde lo siguiente:\n",
        "\n",
        "* ¿Qué tuit es más positivo?\n",
        "\n",
        "* ¿Qué tuit es más negativo?\n",
        "\n",
        "* ¿Cuál es tu calidad promedio?\n",
        "\n",
        "* ¿Cómo interpretas $avg(\\vec{s})$ y $score(\\vec{s})$?\n",
        "\n",
        "* ¿Cómo relacionas la calidad con $score(\\vec{s})$ y $avg(\\vec{s})$?"
      ]
    },
    {
      "cell_type": "code",
      "metadata": {
        "id": "NXl7usLh3V-o",
        "colab": {
          "base_uri": "https://localhost:8080/"
        },
        "outputId": "c53a6d1b-7140-4e57-967e-6244ee7545ea"
      },
      "source": [
        "import numpy as np\n",
        "a = \"Gran mexicano y excelente en su área, su muerte es una enorme perdida y debería ser luto nacional!!!\"\n",
        "b = \"Vaya señora que bueno que se asesora por alguien inteligente no por el ignorante del Gatt.\"\n",
        "c = \"Se me ocurre y sin ver todos los videos de Plazti que me informéis por dónde empiezo. Entiendo que os tendría que decir quién soy y que quiero, vamos conocerme para asesorarme bien. Un saludo\"\n",
        "d = \"Soy docente universitario, estoy intentando preparar mis clases en modo platzi bien didáctico, (le llamo modo noticiero), descargue una plataforma gratuita de grabación y transmisión de vídeo, se llama Obs estudio!bueno la sigo remando con sus funciones pero sé que saldrá algo!\"\n",
        "\n",
        "\n",
        "positive_words = [\"excelente\",\"nacional\",\"asesora\",\"inteligente\",\"asesorarme\",\"bien\",\"saludo\"]\n",
        "neutral_words = [\"mexicano\",\"área\",\"enorme\",\"señora\",\"videos\",\"saludo\",\"funciones\",\"docente\",\"universitario\"]\n",
        "negative_words = [\"muerte\",\"pérdida\",\"luto\",\"ignorante\"]\n",
        "all_words = positive_words + neutral_words + negative_words\n",
        "\n",
        "def characteristics(sentence):\n",
        "  w = []\n",
        "  positive_count = 0\n",
        "  neutral_count = 0\n",
        "  negative_count = 0\n",
        "  words =  sentence.lower().replace(\"!\",\" \").replace(\",\",\" \").replace(\".\",\" \").replace(\"(\",\" \").replace(\")\",\" \").split()\n",
        "\n",
        "  for i in words:\n",
        "    w.append(all_words.count(i))\n",
        "    if i in words and i in positive_words:\n",
        "      positive_count += 1\n",
        "    elif i in words and i in neutral_words:\n",
        "      neutral_count += 1\n",
        "    elif i in words and i in negative_words:\n",
        "      negative_count += 1\n",
        "  \n",
        "  s = np.array([positive_count,neutral_count,negative_count])\n",
        "  word_average = np.dot(1/len(w) * np.ones(len(w)),w)\n",
        "  feeling_average = (s[0] + s[1] + s[2])/3\n",
        "  weight = np.array([1,0,-1])\n",
        "  score = weight * s\n",
        "\n",
        "  print(\"El conteo de sentimientos es \", s)\n",
        "  print(\"El promedio de palabras es \", word_average)\n",
        "  print(\"El promedio de sentimientos es \", feeling_average)\n",
        "  print(\"La puntuación es \",score)\n",
        "\n",
        "a = characteristics(a)\n",
        "b = characteristics(b)\n",
        "c = characteristics(c)\n",
        "d = characteristics(d)"
      ],
      "execution_count": null,
      "outputs": [
        {
          "output_type": "stream",
          "name": "stdout",
          "text": [
            "El conteo de sentimientos es  [2 3 2]\n",
            "El promedio de palabras es  0.38888888888888895\n",
            "El promedio de sentimientos es  2.3333333333333335\n",
            "La puntuación es  [ 2  0 -2]\n",
            "El conteo de sentimientos es  [2 1 1]\n",
            "El promedio de palabras es  0.25\n",
            "El promedio de sentimientos es  1.3333333333333333\n",
            "La puntuación es  [ 2  0 -1]\n",
            "El conteo de sentimientos es  [3 1 0]\n",
            "El promedio de palabras es  0.14285714285714285\n",
            "El promedio de sentimientos es  1.3333333333333333\n",
            "La puntuación es  [3 0 0]\n",
            "El conteo de sentimientos es  [1 3 0]\n",
            "El promedio de palabras es  0.09302325581395349\n",
            "El promedio de sentimientos es  1.3333333333333333\n",
            "La puntuación es  [1 0 0]\n"
          ]
        }
      ]
    }
  ]
}