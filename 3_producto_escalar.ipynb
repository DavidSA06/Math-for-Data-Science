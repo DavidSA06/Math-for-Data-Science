{
  "nbformat": 4,
  "nbformat_minor": 0,
  "metadata": {
    "kernelspec": {
      "display_name": "Python 3",
      "language": "python",
      "name": "python3"
    },
    "language_info": {
      "codemirror_mode": {
        "name": "ipython",
        "version": 3
      },
      "file_extension": ".py",
      "mimetype": "text/x-python",
      "name": "python",
      "nbconvert_exporter": "python",
      "pygments_lexer": "ipython3",
      "version": "3.7.3"
    },
    "colab": {
      "name": "3_producto_escalar.ipynb",
      "provenance": [],
      "collapsed_sections": [],
      "include_colab_link": true
    }
  },
  "cells": [
    {
      "cell_type": "markdown",
      "metadata": {
        "id": "view-in-github",
        "colab_type": "text"
      },
      "source": [
        "<a href=\"https://colab.research.google.com/github/DavidSA06/Math-for-Data-Science/blob/main/3_producto_escalar.ipynb\" target=\"_parent\"><img src=\"https://colab.research.google.com/assets/colab-badge.svg\" alt=\"Open In Colab\"/></a>"
      ]
    },
    {
      "cell_type": "markdown",
      "metadata": {
        "id": "XlOZqTvpr0Y5"
      },
      "source": [
        "# 3. Producto por un escalar o multiplicación escalar-vector."
      ]
    },
    {
      "cell_type": "markdown",
      "metadata": {
        "id": "R414sojur0Za"
      },
      "source": [
        "Otra operación es el *producto por un escalar* o *multiplicación escalar-vector* en la cual un vector es multiplicado por un escalar. La operación se hace elemento a elemento. Sea $\\vec{v}$ un vector de $\\mathbb{R}^{n}$ y $\\alpha \\in \\mathbb{R}$. Si $\\vec{x} = \\alpha \\vec{v}$ entonces:\n",
        "$$\n",
        "\\vec{x} = \\alpha \\vec{v} =   \\alpha\\begin{bmatrix}v_{0}\\\\ v_{1}\\\\ \\vdots \\\\ v_{n-1}\\end{bmatrix} = \\begin{bmatrix}\\alpha \\cdot v_{0}\\\\ \\alpha \\cdot v_{1}\\\\ \\vdots \\\\ \\alpha \\cdot v_{n-1}\\end{bmatrix}\n",
        "$$"
      ]
    },
    {
      "cell_type": "markdown",
      "metadata": {
        "id": "s7lPFj95r0Zf"
      },
      "source": [
        "Por ejemplo, si $\\vec{v} = (0,1,-2.3)$ y $\\alpha = -1.1$ entonces $\\alpha \\vec{v} = (0,-1.1,2.53)$"
      ]
    },
    {
      "cell_type": "markdown",
      "metadata": {
        "id": "cp86OaCWr0Zh"
      },
      "source": [
        "## 3.1 Propiedades del producto por un escalar-vector"
      ]
    },
    {
      "cell_type": "markdown",
      "metadata": {
        "id": "PTUWUtxXr0Zj"
      },
      "source": [
        "Sean $\\vec{x},\\vec{y}$ dos vectores y $\\alpha, \\beta$ dos escalares cualquiera. Las propiedades que cumple el producto escalar-vector son las siguientes:\n",
        "* Conmutatividad: $\\alpha \\vec{x} = \\vec{x}\\alpha $\n",
        "\n",
        "* Asociatividad: $(\\beta \\alpha)\\vec{x} = \\beta (\\alpha\\vec{x})$\n",
        "\n",
        "* Distribución sobre suma escalar: $(\\alpha + \\beta)\\vec{x} = \\alpha \\vec{x} + \\beta\\vec{x} =\\beta\\vec{x} + \\alpha\\vec{x} = \\vec{x}(\\alpha + \\beta) $\n",
        "\n",
        "* Distribución sobre suma de vectores: $\\alpha (\\vec{x}+\\vec{y}) = \\alpha\\vec{x} + \\alpha\\vec{y}$"
      ]
    },
    {
      "cell_type": "markdown",
      "metadata": {
        "id": "B6TRcLiNr0Zm"
      },
      "source": [
        "## 3.2 Algunas consideraciones"
      ]
    },
    {
      "cell_type": "markdown",
      "metadata": {
        "id": "Qw3j7dYir0Zn"
      },
      "source": [
        "**Combinaciones lineales**. Sean $\\vec{a}_{0},\\vec{a}_{1},\\dots,\\vec{a}_{m-1}$ $n$-vectores y $\\beta_{0},\\beta_{1},\\dots,\\beta_{m-1}$ escalares entonces podemos definir el siguiente $n$-vector:\n",
        "\n",
        "$$\n",
        "\\beta_{0}\\vec{a}_{0}+\\beta_{1}\\vec{a}_{1}+\\cdots+\\beta_{m-1}\\vec{a}_{m-1}\n",
        "$$\n",
        "\n",
        "Es llamado una *combinación lineal* de los vectores $\\vec{a}_{0},\\vec{a}_{1},\\dots,\\vec{a}_{m-1}$. Los escalares $\\beta_{0},\\beta_{1},\\dots,\\beta_{m-1}$ son llamados los *coeficientes* de la combinación lineal."
      ]
    },
    {
      "cell_type": "markdown",
      "metadata": {
        "id": "-bEXI0mbr0Zp"
      },
      "source": [
        "  "
      ]
    },
    {
      "cell_type": "markdown",
      "metadata": {
        "id": "h03OEsPDr0aN"
      },
      "source": [
        "**Combinaciones lineales de vectores unitarios**. Es posible escribir cualquier $\\vec{b}$ $n$-vector como combinación lineal de los vectores unitarios estándar:\n",
        "\n",
        "$$\n",
        "\\vec{b} = b_{0}\\hat{e}_{0}+b_{1}\\hat{e}_{1} + \\cdots +b_{n-1}\\hat{e}_{n-1}\n",
        "$$\n",
        "\n",
        "Con $b_{i}$ escalares y $\\hat{e}_{i}$ el i-ésimo vector unitario. Un ejemplo específico sería:\n",
        "\n",
        "$$\n",
        "\\begin{bmatrix}1\\\\ -1\\\\ 0\\end{bmatrix} = (1)\\begin{bmatrix}1\\\\ 0\\\\ 0\\end{bmatrix} + (-1)\\begin{bmatrix}0\\\\ 1\\\\ 0\\end{bmatrix} + (0)\\begin{bmatrix}0\\\\ 0\\\\ 1\\end{bmatrix}\n",
        "$$\n",
        "\n",
        "Como nota final aquí, notemos que si el espacio vectorial es de dimensión $n$ entonces tiene $n$ vectores unitarios $\\hat{e}_{i}$\n"
      ]
    },
    {
      "cell_type": "markdown",
      "metadata": {
        "id": "JfIcLWn_r0aT"
      },
      "source": [
        "  "
      ]
    },
    {
      "cell_type": "markdown",
      "metadata": {
        "id": "C87xvEzAr0aY"
      },
      "source": [
        "**Combinaciones lineales especiales**. Algunas combinaciones de $n$-vectores $\\vec{a}_{0},\\vec{a}_{1},\\dots,\\vec{a}_{m-1}$ tienen nombres especiales.  Por ejemplo, si los coeficientes de la combinación lineal son tales que $\\beta_{0}=\\beta_{1}=\\cdots=\\beta_{m-1} = 1$ entonces simplemente es una suma de vectores. Si en cambio $\\beta_{0}=\\beta_{1}=\\cdots=\\beta_{m-1} = 1/m$ entonces la combinación lineal se llama el *promedio de vectores*.       \n",
        "Cuando $\\beta_{0}+\\beta_{1}+\\cdots+\\beta_{m-1}=1$ entonces la combinación lineal se llama *combinación afín*, cuando los coeficientes $\\beta_{i}$ son no-negativos entonces la combinación lineal es llamada una *mezcla*, *combinación convexa* o un *promedio pesado*."
      ]
    },
    {
      "cell_type": "markdown",
      "metadata": {
        "id": "W8kg2zszr0aa"
      },
      "source": [
        "## 3.3 Producto por un escalar-vector en Python"
      ]
    },
    {
      "cell_type": "markdown",
      "metadata": {
        "id": "QbG_Jy0Hr0ab"
      },
      "source": [
        "Desde la clase pasada introducimos Numpy para manejo de vectores. Una de las fortunas de usar numpy sobre listas es la simpleta de este tipo de operaciones. Realizar esta operación será tan sencillo como usar el operador $*$. "
      ]
    },
    {
      "cell_type": "markdown",
      "metadata": {
        "id": "NGeBUyaTr0ac"
      },
      "source": [
        "Partamos del vector $\\vec{x}= (1,-1,1)$ y del escalar $a = 3.1$ entonces, realicemos las operaciones $a\\vec{x}$ y $\\vec{x}a$"
      ]
    },
    {
      "cell_type": "code",
      "metadata": {
        "id": "J8rLVXf-r0ad"
      },
      "source": [
        "import numpy as np #primero importamos numpy"
      ],
      "execution_count": null,
      "outputs": []
    },
    {
      "cell_type": "code",
      "metadata": {
        "id": "uDdnt3aor0am"
      },
      "source": [
        "x = np.array([1,-1,1]) #declaramos el vector x\n",
        "\n",
        "a = 3.1 #declaramos el escalar a"
      ],
      "execution_count": null,
      "outputs": []
    },
    {
      "cell_type": "code",
      "metadata": {
        "id": "yKap89W8r0at",
        "outputId": "fe24604d-b03f-490b-8902-22748202a558"
      },
      "source": [
        "print('ax es',a*x)"
      ],
      "execution_count": null,
      "outputs": [
        {
          "name": "stdout",
          "output_type": "stream",
          "text": [
            "ax es [ 3.1 -3.1  3.1]\n"
          ]
        }
      ]
    },
    {
      "cell_type": "code",
      "metadata": {
        "id": "P3MHBun1r0ax",
        "outputId": "e025deff-04a5-47bd-b833-c9745a976373"
      },
      "source": [
        "print('xa es',x*a)"
      ],
      "execution_count": null,
      "outputs": [
        {
          "name": "stdout",
          "output_type": "stream",
          "text": [
            "xa es [ 3.1 -3.1  3.1]\n"
          ]
        }
      ]
    },
    {
      "cell_type": "code",
      "metadata": {
        "id": "36wBqUjpr0az"
      },
      "source": [
        "b = -a"
      ],
      "execution_count": null,
      "outputs": []
    },
    {
      "cell_type": "code",
      "metadata": {
        "id": "ADQwGwASr0a0",
        "outputId": "08e532e5-e656-4028-e066-6a9303c23fde"
      },
      "source": [
        "print('(b+a)x es',(b+a)*x)"
      ],
      "execution_count": null,
      "outputs": [
        {
          "name": "stdout",
          "output_type": "stream",
          "text": [
            "(b+a)x es [ 0. -0.  0.]\n"
          ]
        }
      ]
    },
    {
      "cell_type": "code",
      "metadata": {
        "id": "53tZIhJAr0a2",
        "outputId": "b41249f4-3805-475e-a442-28860ac5e929"
      },
      "source": [
        "print('xa+xb es',b*x+ x*a)"
      ],
      "execution_count": null,
      "outputs": [
        {
          "name": "stdout",
          "output_type": "stream",
          "text": [
            "xa+xb es [0. 0. 0.]\n"
          ]
        }
      ]
    },
    {
      "cell_type": "markdown",
      "metadata": {
        "id": "8iPNdubur0a4"
      },
      "source": [
        "*Ahora* un ejercicio más $\\vec{v} = (1,1)$. Si consideramos a = -1, b = 2, c = 0.1"
      ]
    },
    {
      "cell_type": "code",
      "metadata": {
        "id": "XqlCi9hJr0a5"
      },
      "source": [
        "v = np.array([1,1])\n",
        "a = -1\n",
        "b = 2\n",
        "c = 0.1"
      ],
      "execution_count": null,
      "outputs": []
    },
    {
      "cell_type": "code",
      "metadata": {
        "id": "LbMkx7M_r0a7",
        "outputId": "78b0421b-fb23-4f30-e427-17461a6ff173"
      },
      "source": [
        "v*a"
      ],
      "execution_count": null,
      "outputs": [
        {
          "data": {
            "text/plain": [
              "array([-1, -1])"
            ]
          },
          "execution_count": 25,
          "metadata": {},
          "output_type": "execute_result"
        }
      ]
    },
    {
      "cell_type": "code",
      "metadata": {
        "id": "nW38eI4-r0a9",
        "outputId": "a5b7d5f0-252e-4ca8-8532-24d4c36fb20d"
      },
      "source": [
        "v*b"
      ],
      "execution_count": null,
      "outputs": [
        {
          "data": {
            "text/plain": [
              "array([2, 2])"
            ]
          },
          "execution_count": 26,
          "metadata": {},
          "output_type": "execute_result"
        }
      ]
    },
    {
      "cell_type": "code",
      "metadata": {
        "id": "lSjBDlurr0a-",
        "outputId": "547ad216-7af4-49a3-9004-05024d6a671b"
      },
      "source": [
        "v*c"
      ],
      "execution_count": null,
      "outputs": [
        {
          "data": {
            "text/plain": [
              "array([0.1, 0.1])"
            ]
          },
          "execution_count": 28,
          "metadata": {},
          "output_type": "execute_result"
        }
      ]
    },
    {
      "cell_type": "markdown",
      "metadata": {
        "id": "ym7ggzzyr0a_"
      },
      "source": [
        "## 3.3 Ejercicios"
      ]
    },
    {
      "cell_type": "markdown",
      "metadata": {
        "id": "3uHJxq-Gr0bA"
      },
      "source": [
        "**Problema 1**. Escribe TODOS los vectores unitarios estándar de $\\mathbb{R}^{4}$. *Hint:* son cuatro.\n",
        "\n",
        "$$\n",
        "\\begin{bmatrix}1\\\\ 0\\\\ 0\\\\ 0\\end{bmatrix},\\begin{bmatrix}0\\\\ 1\\\\ 0\\\\ 0\\end{bmatrix},\\begin{bmatrix}0\\\\ 0\\\\ 1\\\\ 0\\end{bmatrix},\\begin{bmatrix}0\\\\ 0\\\\ 0\\\\ 1\\end{bmatrix}\n",
        "$$"
      ]
    },
    {
      "cell_type": "markdown",
      "metadata": {
        "id": "U4XiHBpar0bB"
      },
      "source": [
        "**Problema 2**. Escribe tres combinaciones lineales de vectores en $\\mathbb{R}^{3}$ para expresar el vector $[1,1,1]$.\n",
        "$$\n",
        "\\begin{bmatrix}1\\\\ 1\\\\ 1\\end{bmatrix} = (1)\\begin{bmatrix}1\\\\ 0\\\\ 0\\end{bmatrix} + (1)\\begin{bmatrix}0\\\\ 1\\\\ 0\\end{bmatrix} + (1)\\begin{bmatrix}0\\\\ 0\\\\ 1\\end{bmatrix}\n",
        "$$\n",
        "\n",
        "$$\n",
        "\\begin{bmatrix}1\\\\ 1\\\\ 1\\end{bmatrix} = (1)\\begin{bmatrix}1\\\\ 0\\\\ 0\\end{bmatrix} + (-1)\\begin{bmatrix}0\\\\ -1\\\\ 0\\end{bmatrix} + (2)\\begin{bmatrix}0\\\\ 0\\\\ \\frac{1}{2}\\end{bmatrix}\n",
        "$$\n",
        "\n",
        "$$\n",
        "\\begin{bmatrix}1\\\\ 1\\\\ 1\\end{bmatrix} = (4)\\begin{bmatrix}\\frac{1}{2}\\\\ 0\\\\ \\frac{-5}{4}\\end{bmatrix} + (5)\\begin{bmatrix}0\\\\ -5\\\\ 1\\end{bmatrix} + \\left( \\frac{1}{3} \\right)\\begin{bmatrix}-9\\\\ 0\\\\ 3\\end{bmatrix}\n",
        "$$"
      ]
    },
    {
      "cell_type": "markdown",
      "metadata": {
        "id": "ldKdBElzr0bC"
      },
      "source": [
        "**Problema 3.** Escribe tres combinaciones afines con vectores de $\\mathbb{R}^{3}$ donde $\\beta_{0}\\neq\\beta_{1}\\neq\\beta_{2}$ pero que se cumpla que $\\beta_{0}+\\beta_{1}+\\beta_{2}=1$. *HINT*: Si no se te ocurre ninguna combinación para los coeficientes la ecuación $\\beta_{0}+\\beta_{1}+\\beta_{2}=1$ tiene infinitas soluciones, puedes hacer un programa para encontrar tres. \n",
        "\n",
        "$$\n",
        "\\frac{1}{3} + \\frac{1}{3} + \\frac{1}{3} = 1\n",
        "$$\n",
        "$$\n",
        "\\frac{1}{8} + \\frac{3}{8} + \\frac{1}{2} = 1\n",
        "$$\n",
        "$$\n",
        "\\frac{37}{100} + \\frac{11}{100} + \\frac{52}{100} = 1\n",
        "$$"
      ]
    },
    {
      "cell_type": "code",
      "metadata": {
        "id": "URr9GChlr0bD"
      },
      "source": [
        "a = np.linspace(0,5,1000)"
      ],
      "execution_count": null,
      "outputs": []
    },
    {
      "cell_type": "code",
      "metadata": {
        "id": "IkSFdPjir0bE",
        "outputId": "109477dd-5466-4530-aae3-3bd191dc8f97"
      },
      "source": [
        "a[1]-a[0]"
      ],
      "execution_count": null,
      "outputs": [
        {
          "data": {
            "text/plain": [
              "0.005005005005005005"
            ]
          },
          "execution_count": 32,
          "metadata": {},
          "output_type": "execute_result"
        }
      ]
    },
    {
      "cell_type": "code",
      "metadata": {
        "id": "rXz1gqZXr0bF",
        "outputId": "f466ac87-42c4-4e4a-c9d0-70acd7a1c41b"
      },
      "source": [
        "a[2]-a[1]"
      ],
      "execution_count": null,
      "outputs": [
        {
          "data": {
            "text/plain": [
              "0.005005005005005005"
            ]
          },
          "execution_count": 33,
          "metadata": {},
          "output_type": "execute_result"
        }
      ]
    },
    {
      "cell_type": "code",
      "metadata": {
        "id": "SQDiOgHDr0bH",
        "outputId": "3ea14e41-f5b9-448f-c4f9-2a16478fdb71"
      },
      "source": [
        "a[999]-a[998]"
      ],
      "execution_count": null,
      "outputs": [
        {
          "data": {
            "text/plain": [
              "0.005005005005005003"
            ]
          },
          "execution_count": 34,
          "metadata": {},
          "output_type": "execute_result"
        }
      ]
    },
    {
      "cell_type": "code",
      "metadata": {
        "id": "uelBV440r0bJ",
        "outputId": "1d5426f3-8d7b-4edb-a534-9976d2110654"
      },
      "source": [
        "a[0]"
      ],
      "execution_count": null,
      "outputs": [
        {
          "data": {
            "text/plain": [
              "0.0"
            ]
          },
          "execution_count": 35,
          "metadata": {},
          "output_type": "execute_result"
        }
      ]
    },
    {
      "cell_type": "code",
      "metadata": {
        "id": "rGrrvl8ur0bK",
        "outputId": "61a034c8-bd29-43cb-b956-d44c5f4114d2"
      },
      "source": [
        "a[999]"
      ],
      "execution_count": null,
      "outputs": [
        {
          "data": {
            "text/plain": [
              "5.0"
            ]
          },
          "execution_count": 36,
          "metadata": {},
          "output_type": "execute_result"
        }
      ]
    },
    {
      "cell_type": "code",
      "metadata": {
        "id": "hFG0fzu9r0bM"
      },
      "source": [
        ""
      ],
      "execution_count": null,
      "outputs": []
    }
  ]
}