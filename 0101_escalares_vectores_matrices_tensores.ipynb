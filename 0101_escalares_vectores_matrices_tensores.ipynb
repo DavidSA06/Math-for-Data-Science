{
  "nbformat": 4,
  "nbformat_minor": 0,
  "metadata": {
    "kernelspec": {
      "display_name": "Python 3",
      "language": "python",
      "name": "python3"
    },
    "language_info": {
      "codemirror_mode": {
        "name": "ipython",
        "version": 3
      },
      "file_extension": ".py",
      "mimetype": "text/x-python",
      "name": "python",
      "nbconvert_exporter": "python",
      "pygments_lexer": "ipython3",
      "version": "3.7.4"
    },
    "colab": {
      "name": "0101 escalares vectores matrices tensores.ipynb",
      "provenance": [],
      "include_colab_link": true
    }
  },
  "cells": [
    {
      "cell_type": "markdown",
      "metadata": {
        "id": "view-in-github",
        "colab_type": "text"
      },
      "source": [
        "<a href=\"https://colab.research.google.com/github/DavidSA06/Math-for-Data-Science/blob/main/0101_escalares_vectores_matrices_tensores.ipynb\" target=\"_parent\"><img src=\"https://colab.research.google.com/assets/colab-badge.svg\" alt=\"Open In Colab\"/></a>"
      ]
    },
    {
      "cell_type": "code",
      "metadata": {
        "colab": {
          "base_uri": "https://localhost:8080/"
        },
        "id": "YSbCqFOQu0q5",
        "outputId": "5e83ec59-4efe-4dca-e414-54a95e34f917"
      },
      "source": [
        "escalar = 5.678\n",
        "print(escalar)"
      ],
      "execution_count": null,
      "outputs": [
        {
          "output_type": "stream",
          "name": "stdout",
          "text": [
            "5.678\n"
          ]
        }
      ]
    },
    {
      "cell_type": "code",
      "metadata": {
        "colab": {
          "base_uri": "https://localhost:8080/"
        },
        "id": "l_ngv4Fsu0rN",
        "outputId": "5d15d518-3259-4f41-989a-1e2a3a14fa27"
      },
      "source": [
        "escalar_python = True\n",
        "print(escalar_python)\n",
        "print(type(escalar_python))"
      ],
      "execution_count": null,
      "outputs": [
        {
          "output_type": "stream",
          "name": "stdout",
          "text": [
            "True\n",
            "<class 'bool'>\n"
          ]
        }
      ]
    },
    {
      "cell_type": "code",
      "metadata": {
        "id": "EWVoc3DOu0rV"
      },
      "source": [
        "import numpy as np"
      ],
      "execution_count": null,
      "outputs": []
    },
    {
      "cell_type": "code",
      "metadata": {
        "colab": {
          "base_uri": "https://localhost:8080/"
        },
        "id": "TMHC3Us1u0rY",
        "outputId": "255e3bc6-042b-4466-f5e2-f03769a87e5f"
      },
      "source": [
        "vector = np.array([1,2,3,4])\n",
        "print(vector)"
      ],
      "execution_count": null,
      "outputs": [
        {
          "output_type": "stream",
          "name": "stdout",
          "text": [
            "[1 2 3 4]\n"
          ]
        }
      ]
    },
    {
      "cell_type": "code",
      "metadata": {
        "colab": {
          "base_uri": "https://localhost:8080/"
        },
        "id": "WeT_zeTvu0rb",
        "outputId": "d1501ae9-83ec-4b6a-86d1-34f3d0618b3c"
      },
      "source": [
        "matriz = np.array([[1,2,3],[4,5,6],[7,8,9]])\n",
        "print(matriz)"
      ],
      "execution_count": null,
      "outputs": [
        {
          "output_type": "stream",
          "name": "stdout",
          "text": [
            "[[1 2 3]\n",
            " [4 5 6]\n",
            " [7 8 9]]\n"
          ]
        }
      ]
    },
    {
      "cell_type": "code",
      "metadata": {
        "colab": {
          "base_uri": "https://localhost:8080/"
        },
        "id": "w9FYDyVtu0rm",
        "outputId": "d886cf86-35d5-4517-96ee-57bf7d82e208"
      },
      "source": [
        "tensor = np.array([\n",
        "    [[1,2,3],[4,5,6],[6,7,8]],\n",
        "    [[11,12,13],[14,15,16],[17,18,19]],\n",
        "    [[21,22,23],[24,25,26],[27,28,29]],\n",
        "])\n",
        "\n",
        "print(tensor)"
      ],
      "execution_count": null,
      "outputs": [
        {
          "output_type": "stream",
          "name": "stdout",
          "text": [
            "[[[ 1  2  3]\n",
            "  [ 4  5  6]\n",
            "  [ 6  7  8]]\n",
            "\n",
            " [[11 12 13]\n",
            "  [14 15 16]\n",
            "  [17 18 19]]\n",
            "\n",
            " [[21 22 23]\n",
            "  [24 25 26]\n",
            "  [27 28 29]]]\n"
          ]
        }
      ]
    },
    {
      "cell_type": "code",
      "metadata": {
        "id": "XO9wrO-wu0rn"
      },
      "source": [
        "%matplotlib inline\n",
        "\n",
        "import matplotlib.pyplot as plt"
      ],
      "execution_count": null,
      "outputs": []
    },
    {
      "cell_type": "code",
      "metadata": {
        "colab": {
          "base_uri": "https://localhost:8080/",
          "height": 269
        },
        "id": "bLkv84i1u0rq",
        "outputId": "6a977a04-4fe8-43e7-864f-eeaf15c68138"
      },
      "source": [
        "plt.imshow(tensor, interpolation='nearest')\n",
        "plt.show()"
      ],
      "execution_count": null,
      "outputs": [
        {
          "output_type": "display_data",
          "data": {
            "image/png": "[encoded data removed]",
            "text/plain": [
              "<Figure size 432x288 with 1 Axes>"
            ]
          },
          "metadata": {
            "needs_background": "light"
          }
        }
      ]
    },
    {
      "cell_type": "code",
      "metadata": {
        "id": "mgktuDw0u0r2"
      },
      "source": [
        "tensor = np.array([\n",
        "    [[0,0,0],[0,0,0],[0,0,0]],\n",
        "    [[128,128,128],[128,128,128],[128,128,128]],\n",
        "    [[255,255,255],[255,255,255],[255,255,255]],\n",
        "])"
      ],
      "execution_count": null,
      "outputs": []
    },
    {
      "cell_type": "code",
      "metadata": {
        "colab": {
          "base_uri": "https://localhost:8080/",
          "height": 269
        },
        "id": "d6r9n3WQu0r6",
        "outputId": "3ff3555d-ddb9-4b46-b6cf-310d69600214"
      },
      "source": [
        "plt.imshow(tensor, interpolation='nearest')\n",
        "plt.show()"
      ],
      "execution_count": null,
      "outputs": [
        {
          "output_type": "display_data",
          "data": {
            "image/png": "[encoded data removed]",
            "text/plain": [
              "<Figure size 432x288 with 1 Axes>"
            ]
          },
          "metadata": {
            "needs_background": "light"
          }
        }
      ]
    },
    {
      "cell_type": "code",
      "metadata": {
        "colab": {
          "base_uri": "https://localhost:8080/",
          "height": 287
        },
        "id": "e_3UINV6u0r7",
        "outputId": "6922e81b-9204-4bd2-9e31-7537c64d02d3"
      },
      "source": [
        "#Tarea\n",
        "escalar_2 = 42\n",
        "vector_2 = np.array([2,3,5,7])\n",
        "matriz_2 = np.array([\n",
        "            [1,2,3],[4,5,6]\n",
        "])\n",
        "tensor_2 = np.array([\n",
        "            [[255,255,255],[255,255,255],[255,255,255]],\n",
        "            [[0,0,0],[0,0,0],[0,0,0]],\n",
        "            [[128,128,128],[128,128,128],[128,128,128]]\n",
        "])\n",
        "plt.imshow(tensor_2, interpolation='nearest')\n",
        "plt.show()\n",
        "tensor_2.shape"
      ],
      "execution_count": null,
      "outputs": [
        {
          "output_type": "display_data",
          "data": {
            "image/png": "[encoded data removed]",
            "text/plain": [
              "<Figure size 432x288 with 1 Axes>"
            ]
          },
          "metadata": {
            "needs_background": "light"
          }
        },
        {
          "output_type": "execute_result",
          "data": {
            "text/plain": [
              "(3, 3, 3)"
            ]
          },
          "metadata": {},
          "execution_count": 12
        }
      ]
    }
  ]
}