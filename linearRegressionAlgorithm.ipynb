{
  "nbformat": 4,
  "nbformat_minor": 0,
  "metadata": {
    "colab": {
      "name": "linearRegressionAlgorithm.ipynb",
      "provenance": [],
      "collapsed_sections": [],
      "include_colab_link": true
    },
    "kernelspec": {
      "name": "python3",
      "display_name": "Python 3"
    }
  },
  "cells": [
    {
      "cell_type": "markdown",
      "metadata": {
        "id": "view-in-github",
        "colab_type": "text"
      },
      "source": [
        "<a href=\"https://colab.research.google.com/github/DavidSA06/Math-for-Data-Science/blob/main/linearRegressionAlgorithm.ipynb\" target=\"_parent\"><img src=\"https://colab.research.google.com/assets/colab-badge.svg\" alt=\"Open In Colab\"/></a>"
      ]
    },
    {
      "cell_type": "code",
      "metadata": {
        "id": "251sejumaIV9"
      },
      "source": [
        "import numpy as np\n",
        "import matplotlib.pyplot as plt "
      ],
      "execution_count": null,
      "outputs": []
    },
    {
      "cell_type": "code",
      "metadata": {
        "id": "RRiJ18uaab9Y"
      },
      "source": [
        "#Taking our algorithm to python\n",
        "\n",
        "def estimate_b0_b1(x, y):\n",
        "    n = np.size(x)\n",
        "    #obtain the averages of X and Y\n",
        "    m_x, m_y = np.mean(x), np.mean(y)\n",
        "\n",
        "    #Calculate sum of XY and my sum of XX\n",
        "    Summation_xy = np.sum((x  -m_x)*(y - m_y))\n",
        "    Summation_xx = np.sum(x*(x - m_x))\n",
        "\n",
        "    #Regression coefficients\n",
        "    b_1 = Summation_xy / Summation_xx\n",
        "    b_0 = m_y - b_1*m_x\n",
        "\n",
        "    return(b_0, b_1)"
      ],
      "execution_count": null,
      "outputs": []
    },
    {
      "cell_type": "code",
      "metadata": {
        "id": "dViHihYFbIig"
      },
      "source": [
        "#Graph function \n",
        "def plot_regression(x, y, b):\n",
        "    plt.scatter(x, y, color = \"g\", marker = \"o\", s = 30)\n",
        "\n",
        "    y_pred = b[0] + b[1]*x\n",
        "    plt.plot(x, y_pred, color = \"b\")\n",
        "\n",
        "    #etiquetado\n",
        "    plt.xlabel('x-Independent')\n",
        "    plt.ylabel('y-Dependent')\n",
        "\n",
        "    plt.show()"
      ],
      "execution_count": null,
      "outputs": []
    },
    {
      "cell_type": "code",
      "metadata": {
        "id": "u_0Veo1Hg4NV",
        "colab": {
          "base_uri": "https://localhost:8080/",
          "height": 297
        },
        "outputId": "b57ace6e-db1d-4cd0-c31c-b06d46622426"
      },
      "source": [
        "#MAIN code\n",
        "def main():\n",
        "    #DATASET\n",
        "    x = np.array([1,2,3,4,5])\n",
        "    y = np.array([2,3,5,6,5])\n",
        "\n",
        "    #Get b1 and b2 \n",
        "    b = estimate_b0_b1(x, y)\n",
        "    print(\"Values: b0 = {}, b1 ={}\".format(b[0], b[1]))\n",
        "\n",
        "    #We plot our regression line\n",
        "    plot_regression(x, y, b)\n",
        "\n",
        "if __name__== \"__main__\":\n",
        "    main()"
      ],
      "execution_count": null,
      "outputs": [
        {
          "output_type": "stream",
          "name": "stdout",
          "text": [
            "Values: b0 = 1.5, b1 =0.9\n"
          ]
        },
        {
          "output_type": "display_data",
          "data": {
            "image/png": "[encoded data removed]",
            "text/plain": [
              "<Figure size 432x288 with 1 Axes>"
            ]
          },
          "metadata": {
            "needs_background": "light"
          }
        }
      ]
    }
  ]
}