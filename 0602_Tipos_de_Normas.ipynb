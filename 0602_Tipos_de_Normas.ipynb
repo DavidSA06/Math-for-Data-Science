{
  "nbformat": 4,
  "nbformat_minor": 0,
  "metadata": {
    "kernelspec": {
      "display_name": "Python 3",
      "language": "python",
      "name": "python3"
    },
    "language_info": {
      "codemirror_mode": {
        "name": "ipython",
        "version": 3
      },
      "file_extension": ".py",
      "mimetype": "text/x-python",
      "name": "python",
      "nbconvert_exporter": "python",
      "pygments_lexer": "ipython3",
      "version": "3.7.4"
    },
    "colab": {
      "name": "0602 - Tipos de Normas.ipynb",
      "provenance": [],
      "collapsed_sections": [],
      "include_colab_link": true
    }
  },
  "cells": [
    {
      "cell_type": "markdown",
      "metadata": {
        "id": "view-in-github",
        "colab_type": "text"
      },
      "source": [
        "<a href=\"https://colab.research.google.com/github/DavidSA06/Math-for-Data-Science/blob/main/0602_Tipos_de_Normas.ipynb\" target=\"_parent\"><img src=\"https://colab.research.google.com/assets/colab-badge.svg\" alt=\"Open In Colab\"/></a>"
      ]
    },
    {
      "cell_type": "code",
      "metadata": {
        "id": "6e3KZPaMySIg"
      },
      "source": [
        "import numpy as np"
      ],
      "execution_count": null,
      "outputs": []
    },
    {
      "cell_type": "code",
      "metadata": {
        "id": "NwJriq29ySIm",
        "colab": {
          "base_uri": "https://localhost:8080/"
        },
        "outputId": "b4f79acd-ea9b-4608-ffe0-3c42dcbb5eab"
      },
      "source": [
        "vector = np.array([1,2,0,5,6,0])\n",
        "#L_0 = Cantidad de elementos distintos de 0\n",
        "print(np.linalg.norm(vector, ord=0))"
      ],
      "execution_count": null,
      "outputs": [
        {
          "output_type": "stream",
          "name": "stdout",
          "text": [
            "4.0\n"
          ]
        }
      ]
    },
    {
      "cell_type": "code",
      "metadata": {
        "id": "FPb7ZxZWySJG",
        "colab": {
          "base_uri": "https://localhost:8080/"
        },
        "outputId": "52bcacc6-e084-4ffa-c24f-6d6b68acd5d8"
      },
      "source": [
        "vector = np.array([1,-1,1,-1,1])\n",
        "#L_1 = Suma de los valores absolutos\n",
        "print(np.linalg.norm(vector, ord=1))"
      ],
      "execution_count": null,
      "outputs": [
        {
          "output_type": "stream",
          "name": "stdout",
          "text": [
            "5.0\n"
          ]
        }
      ]
    },
    {
      "cell_type": "code",
      "metadata": {
        "id": "gpEdqaH-ySJb"
      },
      "source": [
        "vector = np.array([1,1])"
      ],
      "execution_count": null,
      "outputs": []
    },
    {
      "cell_type": "code",
      "metadata": {
        "id": "VOaGQYdhySJi",
        "colab": {
          "base_uri": "https://localhost:8080/"
        },
        "outputId": "89a9430b-69dc-43c4-bb19-57c687e55474"
      },
      "source": [
        "#L_2 = Distancia euclidiana sqrt(x_1^2+x_2^2)\n",
        "print(np.linalg.norm(vector))\n",
        "print(np.linalg.norm(vector, ord=2))"
      ],
      "execution_count": null,
      "outputs": [
        {
          "output_type": "stream",
          "name": "stdout",
          "text": [
            "1.4142135623730951\n",
            "1.4142135623730951\n"
          ]
        }
      ]
    },
    {
      "cell_type": "code",
      "metadata": {
        "id": "UDpmg85IySJp",
        "colab": {
          "base_uri": "https://localhost:8080/"
        },
        "outputId": "7da70da5-e5c5-4e41-db34-382eb879b13a"
      },
      "source": [
        "vector = np.array([1,2,3,4,5,6])\n",
        "print(vector)"
      ],
      "execution_count": null,
      "outputs": [
        {
          "output_type": "stream",
          "name": "stdout",
          "text": [
            "[1 2 3 4 5 6]\n"
          ]
        }
      ]
    },
    {
      "cell_type": "code",
      "metadata": {
        "id": "7FR4sTrEySJt",
        "colab": {
          "base_uri": "https://localhost:8080/"
        },
        "outputId": "39c98bdf-dc81-427e-9771-280396d8e856"
      },
      "source": [
        "#L_2^2 = Distancia euclidiana al cuadrado (x_1^2+x_2^2)^2\n",
        "print(np.linalg.norm(vector, ord=2)**2)"
      ],
      "execution_count": null,
      "outputs": [
        {
          "output_type": "stream",
          "name": "stdout",
          "text": [
            "91.0\n"
          ]
        }
      ]
    },
    {
      "cell_type": "code",
      "metadata": {
        "id": "XWzvtyzEySJx",
        "colab": {
          "base_uri": "https://localhost:8080/"
        },
        "outputId": "d5a67145-ca33-430c-fc10-6d52e5c78662"
      },
      "source": [
        "#L_2^2 = Producto punto, escalar, interno\n",
        "print(vector.T.dot(vector))"
      ],
      "execution_count": null,
      "outputs": [
        {
          "output_type": "stream",
          "name": "stdout",
          "text": [
            "91\n"
          ]
        }
      ]
    },
    {
      "cell_type": "code",
      "metadata": {
        "id": "G-YBD64LySKI",
        "colab": {
          "base_uri": "https://localhost:8080/"
        },
        "outputId": "44570f0e-c6b1-4ea7-94de-e48834f13092"
      },
      "source": [
        "#L_\\infty = máximo absoluto de los componentes del vector\n",
        "vector = np.array([1,2,3,-100])\n",
        "print(np.linalg.norm(vector, ord=np.inf))"
      ],
      "execution_count": null,
      "outputs": [
        {
          "output_type": "stream",
          "name": "stdout",
          "text": [
            "100.0\n"
          ]
        }
      ]
    },
    {
      "cell_type": "code",
      "metadata": {
        "id": "XhiXqhFsySKa",
        "colab": {
          "base_uri": "https://localhost:8080/"
        },
        "outputId": "b46ac3be-0d17-405e-f90a-244eed7c4e79"
      },
      "source": [
        "mat1 = np.array([[7,-7,3],\n",
        "                [1,1,0],\n",
        "                [0,0,1]])\n",
        "\n",
        "mat2 = np.array([[7,-5,3],\n",
        "                [1,2,0],\n",
        "                [4,0,1]])\n",
        "\n",
        "mat3 = np.array([[7,-5],\n",
        "                [1,2]])\n",
        "v3 = np.array([[3],[3]])\n",
        "print(mat1.dot(mat2))\n",
        "print(mat2.dot(mat1))\n",
        "print(3+mat3)\n",
        "print(mat3+v3)\n",
        "escalar = 3.1\n",
        "mat1.shape"
      ],
      "execution_count": null,
      "outputs": [
        {
          "output_type": "stream",
          "name": "stdout",
          "text": [
            "[[ 54 -49  24]\n",
            " [  8  -3   3]\n",
            " [  4   0   1]]\n",
            "[[ 44 -54  24]\n",
            " [  9  -5   3]\n",
            " [ 28 -28  13]]\n",
            "[[10 -2]\n",
            " [ 4  5]]\n",
            "[[10 -2]\n",
            " [ 4  5]]\n"
          ]
        },
        {
          "output_type": "execute_result",
          "data": {
            "text/plain": [
              "(3, 3)"
            ]
          },
          "metadata": {},
          "execution_count": 26
        }
      ]
    }
  ]
}