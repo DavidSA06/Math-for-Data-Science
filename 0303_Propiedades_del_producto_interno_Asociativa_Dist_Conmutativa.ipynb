{
  "nbformat": 4,
  "nbformat_minor": 0,
  "metadata": {
    "kernelspec": {
      "display_name": "Python 3",
      "language": "python",
      "name": "python3"
    },
    "language_info": {
      "codemirror_mode": {
        "name": "ipython",
        "version": 3
      },
      "file_extension": ".py",
      "mimetype": "text/x-python",
      "name": "python",
      "nbconvert_exporter": "python",
      "pygments_lexer": "ipython3",
      "version": "3.7.4"
    },
    "colab": {
      "name": "0303 - Propiedades del producto interno - Asociativa - Dist - Conmutativa.ipynb",
      "provenance": [],
      "collapsed_sections": [],
      "include_colab_link": true
    }
  },
  "cells": [
    {
      "cell_type": "markdown",
      "metadata": {
        "id": "view-in-github",
        "colab_type": "text"
      },
      "source": [
        "<a href=\"https://colab.research.google.com/github/DavidSA06/Math-for-Data-Science/blob/main/0303_Propiedades_del_producto_interno_Asociativa_Dist_Conmutativa.ipynb\" target=\"_parent\"><img src=\"https://colab.research.google.com/assets/colab-badge.svg\" alt=\"Open In Colab\"/></a>"
      ]
    },
    {
      "cell_type": "code",
      "metadata": {
        "id": "nWrBXyRSlWYB"
      },
      "source": [
        "import numpy as np"
      ],
      "execution_count": null,
      "outputs": []
    },
    {
      "cell_type": "code",
      "metadata": {
        "id": "KMrgq7g_lWYF"
      },
      "source": [
        "A = np.array([[2,3],[5,7],[11,13]])\n",
        "B = np.array([[1,3],[2,1]])\n",
        "C = np.array([[3,1],[4,2]])"
      ],
      "execution_count": null,
      "outputs": []
    },
    {
      "cell_type": "code",
      "metadata": {
        "id": "ani927yFlWYI",
        "outputId": "4e324745-e839-4593-d33b-92f1e5c69df2"
      },
      "source": [
        "# Asociativa\n",
        "ABC = A.dot(B.dot(C))\n",
        "print(ABC)"
      ],
      "execution_count": null,
      "outputs": [
        {
          "name": "stdout",
          "output_type": "stream",
          "text": [
            "[[ 60  26]\n",
            " [145  63]\n",
            " [295 129]]\n"
          ]
        }
      ]
    },
    {
      "cell_type": "code",
      "metadata": {
        "id": "seimgeqJlWYL",
        "outputId": "c184718f-8232-471f-9005-7e3aa7281547"
      },
      "source": [
        "AB_C = A.dot(B).dot(C)\n",
        "print(AB_C)"
      ],
      "execution_count": null,
      "outputs": [
        {
          "name": "stdout",
          "output_type": "stream",
          "text": [
            "[[ 60  26]\n",
            " [145  63]\n",
            " [295 129]]\n"
          ]
        }
      ]
    },
    {
      "cell_type": "code",
      "metadata": {
        "id": "ZNBZW34YlWYO"
      },
      "source": [
        "#Distrbutiva\n",
        "D = A.dot(B+C)\n",
        "E = (A.dot(B))+(A.dot(C))"
      ],
      "execution_count": null,
      "outputs": []
    },
    {
      "cell_type": "code",
      "metadata": {
        "id": "GO4ofHsclWYP",
        "outputId": "26330547-d595-402b-8965-42a9c67f65f5"
      },
      "source": [
        "print(D)\n",
        "print(E)"
      ],
      "execution_count": null,
      "outputs": [
        {
          "name": "stdout",
          "output_type": "stream",
          "text": [
            "[[ 26  17]\n",
            " [ 62  41]\n",
            " [122  83]]\n",
            "[[ 26  17]\n",
            " [ 62  41]\n",
            " [122  83]]\n"
          ]
        }
      ]
    },
    {
      "cell_type": "code",
      "metadata": {
        "id": "k9E8IkQUlWYS",
        "outputId": "d4e6ea5c-c3ad-4d8b-ab2f-6152bc51a485"
      },
      "source": [
        "print(D==E)"
      ],
      "execution_count": null,
      "outputs": [
        {
          "name": "stdout",
          "output_type": "stream",
          "text": [
            "[[ True  True]\n",
            " [ True  True]\n",
            " [ True  True]]\n"
          ]
        }
      ]
    },
    {
      "cell_type": "code",
      "metadata": {
        "id": "KvpWEjUGlWYU"
      },
      "source": [
        "F = B.dot(C)"
      ],
      "execution_count": null,
      "outputs": []
    },
    {
      "cell_type": "code",
      "metadata": {
        "id": "pssuK6U4lWYW"
      },
      "source": [
        "G = C.dot(B)"
      ],
      "execution_count": null,
      "outputs": []
    },
    {
      "cell_type": "code",
      "metadata": {
        "id": "2jZNaNmKlWYY",
        "outputId": "39edb247-70cd-4151-c8fa-4f0f18ff4cb9"
      },
      "source": [
        "print(F==G)"
      ],
      "execution_count": null,
      "outputs": [
        {
          "name": "stdout",
          "output_type": "stream",
          "text": [
            "[[False False]\n",
            " [False False]]\n"
          ]
        }
      ]
    },
    {
      "cell_type": "code",
      "metadata": {
        "id": "UF1NV3BFlWYa",
        "outputId": "36d4c678-da0b-46a9-a6fb-15daaada3ee0"
      },
      "source": [
        "print(F)"
      ],
      "execution_count": null,
      "outputs": [
        {
          "name": "stdout",
          "output_type": "stream",
          "text": [
            "[[15  7]\n",
            " [10  4]]\n"
          ]
        }
      ]
    },
    {
      "cell_type": "code",
      "metadata": {
        "id": "mUfPCAmelWYc",
        "outputId": "29f2b2a9-cfde-4820-fe4f-eb96c81b5159"
      },
      "source": [
        "print(G)"
      ],
      "execution_count": null,
      "outputs": [
        {
          "name": "stdout",
          "output_type": "stream",
          "text": [
            "[[ 5 10]\n",
            " [ 8 14]]\n"
          ]
        }
      ]
    },
    {
      "cell_type": "code",
      "metadata": {
        "id": "UQ9I8ZkZlWYd"
      },
      "source": [
        "v1 = np.array([[2],[7]])\n",
        "v2 = np.array([[3],[5]])"
      ],
      "execution_count": null,
      "outputs": []
    },
    {
      "cell_type": "code",
      "metadata": {
        "id": "zJs97nJ3lWYe"
      },
      "source": [
        "v1_tv2 = v1.T.dot(v2)\n",
        "v2_tv1 = v2.T.dot(v1)"
      ],
      "execution_count": null,
      "outputs": []
    },
    {
      "cell_type": "code",
      "metadata": {
        "id": "QswQ0gRGlWYg",
        "outputId": "16605ff5-daf2-4e2b-d25f-38aa6b6e2b72"
      },
      "source": [
        "print(v1_tv2)"
      ],
      "execution_count": null,
      "outputs": [
        {
          "name": "stdout",
          "output_type": "stream",
          "text": [
            "[[41]]\n"
          ]
        }
      ]
    },
    {
      "cell_type": "code",
      "metadata": {
        "id": "X7JiySr6lWYg",
        "outputId": "f483bf17-ad48-4a79-a371-5fea2d1ad2bc"
      },
      "source": [
        "print(v2_tv1)"
      ],
      "execution_count": null,
      "outputs": [
        {
          "name": "stdout",
          "output_type": "stream",
          "text": [
            "[[41]]\n"
          ]
        }
      ]
    },
    {
      "cell_type": "code",
      "metadata": {
        "id": "nRjXhdARlWYi"
      },
      "source": [
        ""
      ],
      "execution_count": null,
      "outputs": []
    }
  ]
}