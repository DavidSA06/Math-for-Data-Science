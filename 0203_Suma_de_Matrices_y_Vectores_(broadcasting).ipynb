{
  "nbformat": 4,
  "nbformat_minor": 0,
  "metadata": {
    "kernelspec": {
      "display_name": "Python 3",
      "language": "python",
      "name": "python3"
    },
    "language_info": {
      "codemirror_mode": {
        "name": "ipython",
        "version": 3
      },
      "file_extension": ".py",
      "mimetype": "text/x-python",
      "name": "python",
      "nbconvert_exporter": "python",
      "pygments_lexer": "ipython3",
      "version": "3.7.4"
    },
    "colab": {
      "name": "0203 - Suma de Matrices y Vectores (broadcasting).ipynb",
      "provenance": [],
      "collapsed_sections": [],
      "include_colab_link": true
    }
  },
  "cells": [
    {
      "cell_type": "markdown",
      "metadata": {
        "id": "view-in-github",
        "colab_type": "text"
      },
      "source": [
        "<a href=\"https://colab.research.google.com/github/DavidSA06/Math-for-Data-Science/blob/main/0203_Suma_de_Matrices_y_Vectores_(broadcasting).ipynb\" target=\"_parent\"><img src=\"https://colab.research.google.com/assets/colab-badge.svg\" alt=\"Open In Colab\"/></a>"
      ]
    },
    {
      "cell_type": "code",
      "metadata": {
        "id": "iprqhiG5Y2a9"
      },
      "source": [
        "import numpy as np"
      ],
      "execution_count": null,
      "outputs": []
    },
    {
      "cell_type": "code",
      "metadata": {
        "id": "MTcsq2ncY2bC"
      },
      "source": [
        "escalar = 5.679\n",
        "vector = np.array([3,4,5])\n",
        "matriz = np.array([[1,2],[3,4],[5,6]])"
      ],
      "execution_count": null,
      "outputs": []
    },
    {
      "cell_type": "code",
      "metadata": {
        "id": "abcb1jEfY2bF"
      },
      "source": [
        "#A = vector + matriz"
      ],
      "execution_count": null,
      "outputs": []
    },
    {
      "cell_type": "code",
      "metadata": {
        "id": "ztroNNBvY2bK"
      },
      "source": [
        "A = matriz.T + vector"
      ],
      "execution_count": null,
      "outputs": []
    },
    {
      "cell_type": "code",
      "metadata": {
        "id": "eQH5oXEGY2bN",
        "colab": {
          "base_uri": "https://localhost:8080/"
        },
        "outputId": "7c52b7b3-8b0b-4f2d-ff05-7cf385dde01e"
      },
      "source": [
        "print(A)"
      ],
      "execution_count": null,
      "outputs": [
        {
          "output_type": "stream",
          "name": "stdout",
          "text": [
            "[[ 4  7 10]\n",
            " [ 5  8 11]]\n"
          ]
        }
      ]
    },
    {
      "cell_type": "code",
      "metadata": {
        "id": "dgsmpsyKY2bQ"
      },
      "source": [
        "C = matriz + 42"
      ],
      "execution_count": null,
      "outputs": []
    },
    {
      "cell_type": "code",
      "metadata": {
        "id": "CftFy5MIY2bS",
        "colab": {
          "base_uri": "https://localhost:8080/"
        },
        "outputId": "e9e545e9-1c7e-4f1f-fd59-306b8ac7f2bd"
      },
      "source": [
        "print(C)"
      ],
      "execution_count": null,
      "outputs": [
        {
          "output_type": "stream",
          "name": "stdout",
          "text": [
            "[[43 44]\n",
            " [45 46]\n",
            " [47 48]]\n"
          ]
        }
      ]
    },
    {
      "cell_type": "code",
      "metadata": {
        "id": "cw5oc_tCY2bV",
        "colab": {
          "base_uri": "https://localhost:8080/"
        },
        "outputId": "4809d0de-e1df-4828-f60a-1eba5134ff98"
      },
      "source": [
        "D = matriz + np.array([[42],[42],[42]])\n",
        "print(D)"
      ],
      "execution_count": null,
      "outputs": [
        {
          "output_type": "stream",
          "name": "stdout",
          "text": [
            "[[43 44]\n",
            " [45 46]\n",
            " [47 48]]\n"
          ]
        }
      ]
    },
    {
      "cell_type": "code",
      "metadata": {
        "id": "XY75b8aKY2ba",
        "colab": {
          "base_uri": "https://localhost:8080/"
        },
        "outputId": "d27430ad-1280-4655-e1ce-12f1ac381573"
      },
      "source": [
        "#Tarea\n",
        "vector_5 = np.array([1,1,1,1,1])\n",
        "matriz_5 = np.array([\n",
        "                      [1,1,1,1,1],\n",
        "                      [1,1,1,1,1],\n",
        "                      [1,1,1,1,1],\n",
        "                      [1,1,1,1,1],\n",
        "                      [1,1,1,1,1]\n",
        "])\n",
        "\n",
        "print(vector_5 + matriz_5)"
      ],
      "execution_count": null,
      "outputs": [
        {
          "output_type": "stream",
          "name": "stdout",
          "text": [
            "[[2 2 2 2 2]\n",
            " [2 2 2 2 2]\n",
            " [2 2 2 2 2]\n",
            " [2 2 2 2 2]\n",
            " [2 2 2 2 2]]\n"
          ]
        }
      ]
    }
  ]
}