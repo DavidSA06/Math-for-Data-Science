{
  "nbformat": 4,
  "nbformat_minor": 0,
  "metadata": {
    "kernelspec": {
      "display_name": "Python 3",
      "language": "python",
      "name": "python3"
    },
    "language_info": {
      "codemirror_mode": {
        "name": "ipython",
        "version": 3
      },
      "file_extension": ".py",
      "mimetype": "text/x-python",
      "name": "python",
      "nbconvert_exporter": "python",
      "pygments_lexer": "ipython3",
      "version": "3.7.4"
    },
    "colab": {
      "name": "0202 - Transposicion y Suma - matrices escalares.ipynb",
      "provenance": [],
      "collapsed_sections": [],
      "include_colab_link": true
    }
  },
  "cells": [
    {
      "cell_type": "markdown",
      "metadata": {
        "id": "view-in-github",
        "colab_type": "text"
      },
      "source": [
        "<a href=\"https://colab.research.google.com/github/DavidSA06/Math-for-Data-Science/blob/main/0202_Transposicion_y_Suma_matrices_escalares.ipynb\" target=\"_parent\"><img src=\"https://colab.research.google.com/assets/colab-badge.svg\" alt=\"Open In Colab\"/></a>"
      ]
    },
    {
      "cell_type": "code",
      "metadata": {
        "id": "r1Hiy-XAXMbS"
      },
      "source": [
        "import numpy as np"
      ],
      "execution_count": null,
      "outputs": []
    },
    {
      "cell_type": "code",
      "metadata": {
        "id": "3g0nHVSEXMbY"
      },
      "source": [
        "escalar = 5.679\n",
        "vector = np.array([3,4,5,6])\n",
        "matriz = np.array([[1,2],[3,4],[5,6]])\n",
        "tensor = np.array([\n",
        "    [[1,2,3,30],[4,5,6,31],[7,8,9,32]],\n",
        "    [[11,12,13,33],[14,15,16,34],[17,18,19,35]],\n",
        "    [[21,22,23,36],[24,25,26,37],[27,28,29,38]],\n",
        "])"
      ],
      "execution_count": null,
      "outputs": []
    },
    {
      "cell_type": "code",
      "metadata": {
        "id": "cXXB7eNCXMbb"
      },
      "source": [
        "# escalar_t = escalar.T"
      ],
      "execution_count": null,
      "outputs": []
    },
    {
      "cell_type": "code",
      "metadata": {
        "id": "3AH55dlLXMbk",
        "colab": {
          "base_uri": "https://localhost:8080/"
        },
        "outputId": "5188dcd1-0af9-45d2-fbe8-02980dfe2ce9"
      },
      "source": [
        "vector_t = vector.T\n",
        "print(vector_t)"
      ],
      "execution_count": null,
      "outputs": [
        {
          "output_type": "stream",
          "name": "stdout",
          "text": [
            "[3 4 5 6]\n"
          ]
        }
      ]
    },
    {
      "cell_type": "code",
      "metadata": {
        "id": "M-MrVrolXMbs"
      },
      "source": [
        "matriz_t = matriz.T"
      ],
      "execution_count": null,
      "outputs": []
    },
    {
      "cell_type": "code",
      "metadata": {
        "id": "Hz9XMigTXMbv",
        "colab": {
          "base_uri": "https://localhost:8080/"
        },
        "outputId": "288d75e4-c909-46fc-cec9-18c46f6847eb"
      },
      "source": [
        "print(matriz_t)"
      ],
      "execution_count": null,
      "outputs": [
        {
          "output_type": "stream",
          "name": "stdout",
          "text": [
            "[[1 3 5]\n",
            " [2 4 6]]\n"
          ]
        }
      ]
    },
    {
      "cell_type": "code",
      "metadata": {
        "id": "bg57bledXMby",
        "colab": {
          "base_uri": "https://localhost:8080/"
        },
        "outputId": "5107d494-a33c-430b-f6e4-eb1c342dda74"
      },
      "source": [
        "print(matriz.shape)"
      ],
      "execution_count": null,
      "outputs": [
        {
          "output_type": "stream",
          "name": "stdout",
          "text": [
            "(3, 2)\n"
          ]
        }
      ]
    },
    {
      "cell_type": "code",
      "metadata": {
        "id": "g41UMdOcXMcB",
        "colab": {
          "base_uri": "https://localhost:8080/"
        },
        "outputId": "ab60f029-a9a3-49ae-bc19-e4e878cd2d15"
      },
      "source": [
        "print(matriz_t.shape)"
      ],
      "execution_count": null,
      "outputs": [
        {
          "output_type": "stream",
          "name": "stdout",
          "text": [
            "(2, 3)\n"
          ]
        }
      ]
    },
    {
      "cell_type": "code",
      "metadata": {
        "id": "cGbeRUHEXMcF",
        "colab": {
          "base_uri": "https://localhost:8080/"
        },
        "outputId": "ea8c6c87-646d-4be1-be75-ce2b77efcf22"
      },
      "source": [
        "tensor_t = tensor.T\n",
        "print(tensor_t)"
      ],
      "execution_count": null,
      "outputs": [
        {
          "output_type": "stream",
          "name": "stdout",
          "text": [
            "[[[ 1 11 21]\n",
            "  [ 4 14 24]\n",
            "  [ 7 17 27]]\n",
            "\n",
            " [[ 2 12 22]\n",
            "  [ 5 15 25]\n",
            "  [ 8 18 28]]\n",
            "\n",
            " [[ 3 13 23]\n",
            "  [ 6 16 26]\n",
            "  [ 9 19 29]]\n",
            "\n",
            " [[30 33 36]\n",
            "  [31 34 37]\n",
            "  [32 35 38]]]\n"
          ]
        }
      ]
    },
    {
      "cell_type": "code",
      "metadata": {
        "id": "-Gh_nt9hXMcP",
        "colab": {
          "base_uri": "https://localhost:8080/"
        },
        "outputId": "74cc3574-5bdb-451b-9320-ed711bbae5e1"
      },
      "source": [
        "print(tensor)"
      ],
      "execution_count": null,
      "outputs": [
        {
          "output_type": "stream",
          "name": "stdout",
          "text": [
            "[[[ 1  2  3 30]\n",
            "  [ 4  5  6 31]\n",
            "  [ 7  8  9 32]]\n",
            "\n",
            " [[11 12 13 33]\n",
            "  [14 15 16 34]\n",
            "  [17 18 19 35]]\n",
            "\n",
            " [[21 22 23 36]\n",
            "  [24 25 26 37]\n",
            "  [27 28 29 38]]]\n"
          ]
        }
      ]
    },
    {
      "cell_type": "code",
      "metadata": {
        "id": "B7fasosgXMcU",
        "colab": {
          "base_uri": "https://localhost:8080/"
        },
        "outputId": "af9d98a3-589f-450d-e43e-2bf929b62d4d"
      },
      "source": [
        "matriz_t_t = matriz_t.T\n",
        "print(matriz_t_t)"
      ],
      "execution_count": null,
      "outputs": [
        {
          "output_type": "stream",
          "name": "stdout",
          "text": [
            "[[1 2]\n",
            " [3 4]\n",
            " [5 6]]\n"
          ]
        }
      ]
    },
    {
      "cell_type": "code",
      "metadata": {
        "id": "96dLDBUoXMca",
        "colab": {
          "base_uri": "https://localhost:8080/"
        },
        "outputId": "4256ba83-a996-4619-cd30-d1698fcfbd07"
      },
      "source": [
        "print(matriz)"
      ],
      "execution_count": null,
      "outputs": [
        {
          "output_type": "stream",
          "name": "stdout",
          "text": [
            "[[1 2]\n",
            " [3 4]\n",
            " [5 6]]\n"
          ]
        }
      ]
    },
    {
      "cell_type": "code",
      "metadata": {
        "id": "Gv3Lde7VXMce"
      },
      "source": [
        "A = matriz\n",
        "B = matriz_t"
      ],
      "execution_count": null,
      "outputs": []
    },
    {
      "cell_type": "code",
      "metadata": {
        "id": "nJkFtn8PXMcg"
      },
      "source": [
        "# C = A+B"
      ],
      "execution_count": null,
      "outputs": []
    },
    {
      "cell_type": "code",
      "metadata": {
        "id": "YwxF_p8_XMci",
        "colab": {
          "base_uri": "https://localhost:8080/"
        },
        "outputId": "edc3ce99-b069-48dd-d40e-eced7ff897dd"
      },
      "source": [
        "A = np.array([[1,2],[3,4],[5,6]])\n",
        "B = np.array([[6,5],[4,3],[2,1]])\n",
        "C = A+B\n",
        "print(A)\n",
        "print(B)\n",
        "print(C)"
      ],
      "execution_count": null,
      "outputs": [
        {
          "output_type": "stream",
          "name": "stdout",
          "text": [
            "[[1 2]\n",
            " [3 4]\n",
            " [5 6]]\n",
            "[[6 5]\n",
            " [4 3]\n",
            " [2 1]]\n",
            "[[7 7]\n",
            " [7 7]\n",
            " [7 7]]\n"
          ]
        }
      ]
    },
    {
      "cell_type": "code",
      "metadata": {
        "id": "xvEi0aTHXMck",
        "colab": {
          "base_uri": "https://localhost:8080/"
        },
        "outputId": "888f6106-7771-4702-af39-14a27cf9333a"
      },
      "source": [
        "D = matriz + escalar\n",
        "print(D)"
      ],
      "execution_count": null,
      "outputs": [
        {
          "output_type": "stream",
          "name": "stdout",
          "text": [
            "[[ 6.679  7.679]\n",
            " [ 8.679  9.679]\n",
            " [10.679 11.679]]\n"
          ]
        }
      ]
    },
    {
      "cell_type": "code",
      "metadata": {
        "id": "Lyvhkf1IXMcw"
      },
      "source": [
        ""
      ],
      "execution_count": null,
      "outputs": []
    }
  ]
}