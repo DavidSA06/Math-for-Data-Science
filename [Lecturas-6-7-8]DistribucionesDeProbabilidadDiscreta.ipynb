{
  "nbformat": 4,
  "nbformat_minor": 0,
  "metadata": {
    "colab": {
      "name": "[Lecturas-6-7-8]DistribucionesDeProbabilidadDiscreta.ipynb",
      "provenance": [],
      "collapsed_sections": [],
      "include_colab_link": true
    },
    "kernelspec": {
      "name": "python3",
      "display_name": "Python 3"
    }
  },
  "cells": [
    {
      "cell_type": "markdown",
      "metadata": {
        "id": "view-in-github",
        "colab_type": "text"
      },
      "source": [
        "<a href=\"https://colab.research.google.com/github/DavidSA06/Math-for-Data-Science/blob/main/%5BLecturas-6-7-8%5DDistribucionesDeProbabilidadDiscreta.ipynb\" target=\"_parent\"><img src=\"https://colab.research.google.com/assets/colab-badge.svg\" alt=\"Open In Colab\"/></a>"
      ]
    },
    {
      "cell_type": "markdown",
      "metadata": {
        "id": "Tq1c5_KzUaCG"
      },
      "source": [
        "# Distribuciones discretas (e.j. binomial)\n",
        "\n",
        "---\n",
        "\n",
        "\n",
        "\n",
        "Recordando que la distribución binomial está dada por: \n",
        "\n",
        "$$\n",
        "P\\left(k, n; p\\right) = {n \\choose k} p^k \\left(1 - p\\right)^{n-k} = \\frac{n!}{k!\\left(n - k\\right)!}p^k \\left(1 - p\\right)^{n - k}\n",
        "$$\n",
        "\n",
        "donde $P(k, n; p)$ representa la probabilidad de obtener $k$ éxitos de $n$ intentos con posibilidad **binaria** (por ejemplo, lanzamientos de moneda). \n",
        "\n",
        "`Ejemplo`: la probabilidad de obtener 4 caras a partir de 10 lanzamientos consecutivos de moneda, está dada por (tomando $p = 0.5$, por lo tanto $1-p = 0.5$):  \n",
        "\n",
        "$$\n",
        "P\\left(k=4, n=10; p=0.5\\right) = {10 \\choose 4} \\left( \\frac{1}{2}\\right)^{10} = \\frac{10!}{4!6!} \\left( \\frac{1}{2}\\right)^{10} = \\frac{105}{512}\n",
        "$$\n",
        "\n",
        "---\n",
        "\n",
        "Ahora, la probabilidad de obtener $k$ o menos éxitos a partir de $n$ intentos está dada por la distribución acumulada:\n",
        "\n",
        "$$\n",
        "C(k, n; p) = \\sum_{i = 0}^k P(i, n;p) = \\sum_{i = 0}^k {n \\choose i} p^i (1 - p)^{n - i}\n",
        "$$\n",
        "\n",
        "Por convención entendemos que:\n",
        "\n",
        "$$C(k=3,n=6;p=0.5) = P(k \\leq 3, n=6, p=0.5 )$$\n",
        "\n",
        "\n",
        "`Ejemplo`: la probabilidad de obtener 3 o menos caras a partir de 6 lanzamientos consecutivos está dada por (tomando $p = 0.5$, por lo tanto $1-p = 0.5$): \n",
        "\n",
        "$$P\\left(k \\leq 3, n=6;p=0.5\\right) = \\sum_{i=0}^3 {6 \\choose i} \\left(\\frac{1}{2} \\right)^6$$\n",
        "\n",
        "$$P(k \\leq 3, n=6;p=0.5) = \\left(\\frac{1}{2} \\right)^6 \\sum_{i=0}^3 {6 \\choose i}$$\n",
        "\n",
        "$$P\\left(k \\leq 3, n = 6;p = 0.5\\right) = \\left(\\frac{1}{2} \\right)^6 \\left\\{ {6 \\choose 0} + {6 \\choose 1} + {6 \\choose 2} + {6 \\choose 3} \\right\\}$$\n"
      ]
    },
    {
      "cell_type": "markdown",
      "metadata": {
        "id": "_03BrIqTkkH1"
      },
      "source": [
        "# Ejercicios (bloque 1)\n",
        "\n",
        "Calcula a mano las siguientes probabilidades (tomando $p = 0.5$, por lo tanto $1-p = 0.5$):\n",
        "\n",
        "1. Probabilidad de obtener 3 caras a partir de 12 lanzamientos de moneda. $R = \\frac{55}{1024} = 0.054$\n",
        "\n",
        "2. Probabilidad de obtener 5 o menos caras a partir de 10 lanzamientos de moneda. $R = \\frac{10}{1024} + \\frac{45}{1024} + \\frac{120}{1024} + \\frac{210}{1024} + \\frac{252}{1024} = \\frac{637}{1024} = 0.62$\n",
        "\n",
        "3. Probabilidad de obtener menos de 6 caras a partir de 10 lanzamientos de moneda. $R = \\frac{10}{1024} + \\frac{45}{1024} + \\frac{120}{1024} + \\frac{210}{1024} + \\frac{252}{1024} = \\frac{637}{1024} = 0.62$\n",
        "\n",
        "Calcula a mano las mismas probabilidades anteriores pero considerando ahora $p=0.3$.\n",
        "\n",
        "1. $R = \\frac{22*27*7^{9}}{10^{11}} = 0.24$\n",
        "\n",
        "2. $R = \\frac{7^{10}}{10^{10}} + \\frac{30*7^{9}}{10^{10}} + \\frac{405*7^{8}}{10^{10}} + \\frac{3240*7{7}}{10^{10}} + \\frac{17010*7^{6}}{10^{10}} + \\frac{61236*7^{5}}{10^{10}} = \\frac{1210608210}{10^{10}} + \\frac{2334744405}{10^{10}} + \\frac{2668279320}{10^{10}} + \\frac{2001209490}{10^{10}} + \\frac{1029193452}{10^{10}} = 0.95$\n",
        "\n",
        "3. $R = 0.95$"
      ]
    },
    {
      "cell_type": "markdown",
      "metadata": {
        "id": "JW8Nt8avmVuB"
      },
      "source": [
        "# Bonus en Python"
      ]
    },
    {
      "cell_type": "code",
      "metadata": {
        "id": "8cphK5HBUTaj"
      },
      "source": [
        "from math import factorial\n",
        "\n",
        "# definición de la distribución binomial \n",
        "def my_binomial(k, n, p):\n",
        "  return factorial(n)/(factorial(k)*(factorial(n-k)))*pow(p,k)*pow(1-p, n-k)"
      ],
      "execution_count": null,
      "outputs": []
    },
    {
      "cell_type": "markdown",
      "metadata": {
        "id": "F-UASz0RmZVA"
      },
      "source": [
        "Usando la función `my_binomial()`, definida previamente, verifica el cálculo de todas las probabilidades del punto anterior.\n",
        "\n",
        "Ejemplo:\n",
        "\n",
        "$$P\\left(k \\leq 3, n=6, p=0.5\\right)$$\n",
        "\n",
        "Se traduce en :\n",
        "\n",
        "```python\n",
        "total = 0\n",
        "for n in range(4):\n",
        "  total += my_binomial(i,6,0.5)\n",
        "\n",
        "print(total) \n",
        "```"
      ]
    },
    {
      "cell_type": "code",
      "metadata": {
        "id": "pzUPQdYSjm4t"
      },
      "source": [
        ""
      ],
      "execution_count": null,
      "outputs": []
    },
    {
      "cell_type": "code",
      "metadata": {
        "id": "6p9n3hA-mYoP",
        "colab": {
          "base_uri": "https://localhost:8080/"
        },
        "outputId": "ddf22fa8-d194-4927-819c-17fc46f32dac"
      },
      "source": [
        "# escribe tu codigo aquí:\n",
        "def c_binomial(k, n, p):\n",
        "  total = 0\n",
        "  for i in range(k+1):\n",
        "    total += my_binomial(i,n,p)\n",
        "  return total\n",
        "print(c_binomial(5,10,0.5)) \n"
      ],
      "execution_count": null,
      "outputs": [
        {
          "output_type": "stream",
          "text": [
            "0.623046875\n"
          ],
          "name": "stdout"
        }
      ]
    }
  ]
}