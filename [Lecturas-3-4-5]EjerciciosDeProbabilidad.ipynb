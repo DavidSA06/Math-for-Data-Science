{
  "nbformat": 4,
  "nbformat_minor": 0,
  "metadata": {
    "colab": {
      "name": "[Lecturas-3-4-5]EjerciciosDeProbabilidad.ipynb",
      "provenance": [],
      "collapsed_sections": [],
      "include_colab_link": true
    },
    "kernelspec": {
      "name": "python3",
      "display_name": "Python 3"
    }
  },
  "cells": [
    {
      "cell_type": "markdown",
      "metadata": {
        "id": "view-in-github",
        "colab_type": "text"
      },
      "source": [
        "<a href=\"https://colab.research.google.com/github/DavidSA06/Math-for-Data-Science/blob/main/%5BLecturas-3-4-5%5DEjerciciosDeProbabilidad.ipynb\" target=\"_parent\"><img src=\"https://colab.research.google.com/assets/colab-badge.svg\" alt=\"Open In Colab\"/></a>"
      ]
    },
    {
      "cell_type": "markdown",
      "metadata": {
        "id": "OuVGSARZqcKF"
      },
      "source": [
        "# Tipos de probabilidad (revisión de conceptos)\n",
        "\n",
        "Según lo visto en clase, tenemos tres tipos de probabilidad a definir. Sean $A$ y $B$ dos eventos aleatorios diferentes, entonces:\n",
        "\n",
        "---\n",
        "\n",
        "`Probabilidad conjunta`: sean $A$ y $B$ dos eventos aleatorios diferentes, definimos la probabilidad conjunta de que ambos eventos ocurran por medio de la regla del producto:\n",
        "\n",
        "$$\n",
        "P \\left( A, B \\right) = P \\left(A \\mid B\\right)P \\left( B\\right)\n",
        "$$\n",
        "\n",
        "donde $P\\left(A \\mid B\\right)$ se define como la `probabilidad condicional` de que ocurra $B$ (sin conocimiento extra de otras variables).\n",
        "\n",
        "---\n",
        "\n",
        "`Probabilidad marginal`: la probabilidad de $A$ sobre una distribución conjunta de probabilidades en $A$ y $B$, se define como la suma de todas las probabilidades conjuntas $P \\left(A, B\\right)$ considerando todos los posibles valores de $B$:\n",
        "\n",
        "$$\n",
        "P\\left( A \\right) = \\sum_{B=b} P\\left( A,B \\right) = \\sum_{B=b} P\\left( A\\mid B\\right) P\\left( B\\right)\n",
        "$$\n",
        "\n"
      ]
    },
    {
      "cell_type": "markdown",
      "metadata": {
        "id": "YTVHbmebucgL"
      },
      "source": [
        "# Ejercicios (bloque 1)\n",
        "\n",
        "Considerando un lanzamiento de un dado y considerando los siguientes eventos aleatorios:\n",
        "\n",
        "A = {el resultado del lanzamiento de un dado es 6}\n",
        "\n",
        "B = {el resultado del lanzamiento de un dado es par}\n",
        "\n",
        "C = {el resultado del lanzamiento de un dado es impar}\n",
        "\n",
        "Calcula las siguientes probabilidades:\n",
        "\n",
        "1. $P \\left( A\\mid B\\right) = \\frac{1}{3}$\n",
        "2. $P \\left( A\\mid B\\right) = \\frac{0}{3} = 0$\n",
        "3. $P \\left( A\\mid B\\right) = \\frac{0}{3} = 0$\n"
      ]
    },
    {
      "cell_type": "markdown",
      "metadata": {
        "id": "8U9IOHWXv89f"
      },
      "source": [
        "# Ejercicios (bloque 2)\n",
        "\n",
        "Considerando una ruleta de doce números \n",
        "\n",
        "$$\n",
        "\\left\\lbrace 1,2,3,4,5,6,7,8,9,10,11,12\\right\\rbrace\n",
        "$$ \n",
        "\n",
        "dos jugadores eligen 6 números, cada uno de ellos. Supón que el jugador 1 elige $A= \\left\\lbrace 1,2,3,4,5,6\\right\\rbrace$ y calcula las siguientes probabilidades:\n",
        "\n",
        "1. $P \\left( A\\mid B\\right)$ sabiendo que el jugador 2 elige $B= \\left\\lbrace 2,4,6,8,10,12\\right\\rbrace$\n",
        "$P \\left( A\\mid B\\right) = \\frac{3}{6} = \\frac{1}{2}$\n",
        "\n",
        "2. $P \\left( A\\mid B\\right)$ sabiendo que el jugador 2 elige $B= \\left\\lbrace 1,3,5,7,9,11\\right\\rbrace$\n",
        "\n",
        "$P \\left( A\\mid B\\right) = \\frac{3}{6} = \\frac{1}{2}$\n",
        "\n",
        "3. $P \\left( A\\mid B\\right)$ sabiendo que el jugador 2 elige $B= \\left\\lbrace 5,6,7,8,9,11\\right\\rbrace$\n",
        "\n",
        "$P \\left( A\\mid B\\right)= \\frac{2}{6} = \\frac{1}{3}$\n",
        "\n"
      ]
    },
    {
      "cell_type": "markdown",
      "metadata": {
        "id": "NibRqkn-0IlF"
      },
      "source": [
        "# Ejercicios (bloque 3)\n",
        "\n",
        "Considera un problema donde se lanzan dos monedas, sean $m_{1}$ y $m_{2}$. Verifica la regla del producto para las siguientes probabilidades (dibuja el espacio muestral y calcula cada probabilidad por separado):\n",
        "\n",
        "1. $P\\left( m_{1} = \\mathrm{cara}, m_{2} = \\mathrm{sello} \\right) = P\\left( m_{1} = \\mathrm{cara}\\mid m_{2} = \\mathrm{sello} \\right) P\\left(m_{2} = \\mathrm{sello}\\right) = \\left(\\frac{1}{2}\\right) \\left(\\frac{1}{2}\\right) = \\frac{1}{4}$\n",
        "\n",
        "2. $P\\left( m_{1} = \\mathrm{cara}\\mid m_{2} = \\mathrm{sello} \\right) = \\frac{1}{2}$\n",
        "\n",
        "3. $P\\left( m_{2} = \\mathrm{sello} \\right) = P\\left( m_{1} = \\mathrm{cara}\\mid m_{2} = \\mathrm{sello} \\right) + P\\left( m_{1} = \\mathrm{sello}\\mid m_{2} = \\mathrm{sello} \\right) = \\frac{1}{4} + \\frac{1}{4} = \\frac{1}{2}$"
      ]
    }
  ]
}