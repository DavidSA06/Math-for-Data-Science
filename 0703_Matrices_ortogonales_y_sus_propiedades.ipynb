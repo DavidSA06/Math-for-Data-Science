{
  "nbformat": 4,
  "nbformat_minor": 0,
  "metadata": {
    "kernelspec": {
      "display_name": "Python 3",
      "language": "python",
      "name": "python3"
    },
    "language_info": {
      "codemirror_mode": {
        "name": "ipython",
        "version": 3
      },
      "file_extension": ".py",
      "mimetype": "text/x-python",
      "name": "python",
      "nbconvert_exporter": "python",
      "pygments_lexer": "ipython3",
      "version": "3.7.4"
    },
    "colab": {
      "name": "0703 - Matrices ortogonales y sus propiedades.ipynb",
      "provenance": [],
      "collapsed_sections": [],
      "include_colab_link": true
    }
  },
  "cells": [
    {
      "cell_type": "markdown",
      "metadata": {
        "id": "view-in-github",
        "colab_type": "text"
      },
      "source": [
        "<a href=\"https://colab.research.google.com/github/DavidSA06/Math-for-Data-Science/blob/main/0703_Matrices_ortogonales_y_sus_propiedades.ipynb\" target=\"_parent\"><img src=\"https://colab.research.google.com/assets/colab-badge.svg\" alt=\"Open In Colab\"/></a>"
      ]
    },
    {
      "cell_type": "code",
      "metadata": {
        "id": "wHLjZ7fRiD_Z"
      },
      "source": [
        "import numpy as np"
      ],
      "execution_count": null,
      "outputs": []
    },
    {
      "cell_type": "code",
      "metadata": {
        "id": "7UhRMYCCiD_q",
        "outputId": "ca2c96a3-f7a3-4b0f-e234-a37b8bf57a52"
      },
      "source": [
        "matriz = np.array([[1,0,0],\n",
        "                   [0,1,0],\n",
        "                   [0,0,1]\n",
        "                  ])\n",
        "print(matriz)"
      ],
      "execution_count": null,
      "outputs": [
        {
          "name": "stdout",
          "output_type": "stream",
          "text": [
            "[[1 0 0]\n",
            " [0 1 0]\n",
            " [0 0 1]]\n"
          ]
        }
      ]
    },
    {
      "cell_type": "code",
      "metadata": {
        "id": "RfAGrQBLiD_4",
        "outputId": "e8b68ab2-df7d-4b74-a9dd-9d2023266805"
      },
      "source": [
        "print(matriz[:,0].dot(matriz[:,1]))"
      ],
      "execution_count": null,
      "outputs": [
        {
          "name": "stdout",
          "output_type": "stream",
          "text": [
            "0\n"
          ]
        }
      ]
    },
    {
      "cell_type": "code",
      "metadata": {
        "id": "9DB4IZOZiECL",
        "outputId": "586a7912-57a3-4d6e-9979-cc64be82e3bf"
      },
      "source": [
        "print(matriz[:,0].dot(matriz[:,2]))"
      ],
      "execution_count": null,
      "outputs": [
        {
          "name": "stdout",
          "output_type": "stream",
          "text": [
            "0\n"
          ]
        }
      ]
    },
    {
      "cell_type": "code",
      "metadata": {
        "id": "qmPxOd9KiECb",
        "outputId": "7a639f41-f97f-4900-c053-e243710a6aa5"
      },
      "source": [
        "print(matriz[:,1].dot(matriz[:,2]))"
      ],
      "execution_count": null,
      "outputs": [
        {
          "name": "stdout",
          "output_type": "stream",
          "text": [
            "0\n"
          ]
        }
      ]
    },
    {
      "cell_type": "code",
      "metadata": {
        "id": "7ReUBMGEiECe",
        "outputId": "4c0b794e-9461-42e8-8bee-a6e9fc2d1ff1"
      },
      "source": [
        "print(np.linalg.norm(matriz[:,0]))\n",
        "print(np.linalg.norm(matriz[:,1]))\n",
        "print(np.linalg.norm(matriz[:,2]))"
      ],
      "execution_count": null,
      "outputs": [
        {
          "name": "stdout",
          "output_type": "stream",
          "text": [
            "1.0\n",
            "1.0\n",
            "1.0\n"
          ]
        }
      ]
    },
    {
      "cell_type": "code",
      "metadata": {
        "id": "6OW5pN0piECl",
        "outputId": "ddd26c9d-c2bc-40aa-a8e5-25acb6e5141c"
      },
      "source": [
        "print(matriz[0,:].dot(matriz[1,:]))\n",
        "print(matriz[0,:].dot(matriz[2,:]))\n",
        "print(matriz[1,:].dot(matriz[2,:]))"
      ],
      "execution_count": null,
      "outputs": [
        {
          "name": "stdout",
          "output_type": "stream",
          "text": [
            "0\n",
            "0\n",
            "0\n"
          ]
        }
      ]
    },
    {
      "cell_type": "code",
      "metadata": {
        "id": "v7nZS6i_iEC8",
        "outputId": "de800eb6-fbc6-4f8f-e2d5-c6a390fe3245"
      },
      "source": [
        "print(np.linalg.norm(matriz[0,:]))\n",
        "print(np.linalg.norm(matriz[1,:]))\n",
        "print(np.linalg.norm(matriz[2,:]))"
      ],
      "execution_count": null,
      "outputs": [
        {
          "name": "stdout",
          "output_type": "stream",
          "text": [
            "1.0\n",
            "1.0\n",
            "1.0\n"
          ]
        }
      ]
    },
    {
      "cell_type": "code",
      "metadata": {
        "id": "R2BDr5m4iEDg",
        "outputId": "4545b1c0-e871-479e-faa9-527b0bd76be6"
      },
      "source": [
        "A = np.array([[np.cos(100), -np.sin(100)],\n",
        "             [np.sin(100), np.cos(100)]])\n",
        "print(A)"
      ],
      "execution_count": null,
      "outputs": [
        {
          "name": "stdout",
          "output_type": "stream",
          "text": [
            "[[ 0.86231887  0.50636564]\n",
            " [-0.50636564  0.86231887]]\n"
          ]
        }
      ]
    },
    {
      "cell_type": "code",
      "metadata": {
        "id": "r5K9WDqSiEEG",
        "outputId": "19bef8b2-3969-44cc-f0fa-c9fb96938fe7"
      },
      "source": [
        "print(np.linalg.norm(A[0,:]))\n",
        "print(np.linalg.norm(A[1,:]))\n",
        "print(np.linalg.norm(A[:,0]))\n",
        "print(np.linalg.norm(A[:,1]))"
      ],
      "execution_count": null,
      "outputs": [
        {
          "name": "stdout",
          "output_type": "stream",
          "text": [
            "0.9999999999999999\n",
            "0.9999999999999999\n",
            "0.9999999999999999\n",
            "0.9999999999999999\n"
          ]
        }
      ]
    },
    {
      "cell_type": "code",
      "metadata": {
        "id": "Y9xU9x6niEEQ",
        "outputId": "39ce8ed5-25bd-4d7d-bb16-e00ecd99b24f"
      },
      "source": [
        "print(A[0,:].dot(A[1,:]))\n",
        "print(A[:,0].dot(A[:,1]))"
      ],
      "execution_count": null,
      "outputs": [
        {
          "name": "stdout",
          "output_type": "stream",
          "text": [
            "0.0\n",
            "0.0\n"
          ]
        }
      ]
    },
    {
      "cell_type": "code",
      "metadata": {
        "id": "OLdD5VzuiEEa",
        "outputId": "98e38141-ba65-4d30-fe27-56e13506f083"
      },
      "source": [
        "A_t = A.T\n",
        "print(A_t.dot(A))\n",
        "print(A.dot(A_t))"
      ],
      "execution_count": null,
      "outputs": [
        {
          "name": "stdout",
          "output_type": "stream",
          "text": [
            "[[ 1.00000000e+00 -7.93771519e-18]\n",
            " [-7.93771519e-18  1.00000000e+00]]\n",
            "[[1.00000000e+00 7.93771519e-18]\n",
            " [7.93771519e-18 1.00000000e+00]]\n"
          ]
        }
      ]
    },
    {
      "cell_type": "code",
      "metadata": {
        "id": "86eSIuPYiEFG",
        "outputId": "0e951bd8-4781-49de-ad8a-aa8f7111aff2"
      },
      "source": [
        "A_inv = np.linalg.inv(A)\n",
        "print(A_inv)"
      ],
      "execution_count": null,
      "outputs": [
        {
          "name": "stdout",
          "output_type": "stream",
          "text": [
            "[[ 0.86231887 -0.50636564]\n",
            " [ 0.50636564  0.86231887]]\n"
          ]
        }
      ]
    },
    {
      "cell_type": "code",
      "metadata": {
        "id": "FZTWd2uLiEFX",
        "outputId": "d9482e42-f678-476a-9e12-9c501b6c9f6b"
      },
      "source": [
        "print(A_t)"
      ],
      "execution_count": null,
      "outputs": [
        {
          "name": "stdout",
          "output_type": "stream",
          "text": [
            "[[ 0.86231887 -0.50636564]\n",
            " [ 0.50636564  0.86231887]]\n"
          ]
        }
      ]
    },
    {
      "cell_type": "code",
      "metadata": {
        "id": "T4h5DVuEiEFb",
        "outputId": "afec71c1-a910-4b73-fcca-f0090439d2da"
      },
      "source": [
        "print(1/A_t.dot(A))"
      ],
      "execution_count": null,
      "outputs": [
        {
          "name": "stdout",
          "output_type": "stream",
          "text": [
            "[[ 1.00000000e+00 -1.25980837e+17]\n",
            " [-1.25980837e+17  1.00000000e+00]]\n"
          ]
        }
      ]
    },
    {
      "cell_type": "code",
      "metadata": {
        "id": "ypHN1vNSiEFd"
      },
      "source": [
        ""
      ],
      "execution_count": null,
      "outputs": []
    }
  ]
}